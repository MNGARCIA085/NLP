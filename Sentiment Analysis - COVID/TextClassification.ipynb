{
 "cells": [
  {
   "cell_type": "markdown",
   "id": "7cb268cb",
   "metadata": {},
   "source": [
    "# <center><font color='blue'>SENTIMENT ANALYSIS: COVID</center></font>\n"
   ]
  },
  {
   "cell_type": "markdown",
   "id": "410ef0e5",
   "metadata": {},
   "source": [
    "## Tabla de contenido\n",
    "- [1 - Objetivos](#1)\n",
    "- [2 - Librerías necesarias](#2)\n",
    "- [3 - Carga y visualización de datos](#3)\n",
    "- [4 - Pre-procesamiento de datos](#4)\n",
    "    - [4.1. - Datos faltantes](#4.1)\n",
    "    - [4.2. - Data Categóricos](#4.2)\n",
    "    - [4.3. - Balanceo de clases](#4.3)\n",
    "    - [4.4. - Pre-Procesamiento especial para NLP](#4.4)\n",
    "- [5 - Modelos](#5)\n",
    "    - [5.1. - Modelo 1](#5.1)\n",
    "    - [5.2. - Modelo 2](#5.2)\n",
    "    - [5.3. - Modelo 3](#5.3)\n",
    "    - [5.4. - Modelo 4](#5.4)\n",
    "    - [5.4. - Modelo 5](#5.5)\n",
    "    - [5.4. - Modelo 6](#5.6)\n",
    "    - [5.4. - Modelo 7](#5.7)\n",
    "- [6 - Comparando los modelos y eligiendo el mejor](#6)\n",
    "- [7 - Ajuste de hiperparámetros](#7)\n",
    "- [8 - Predicciones con el modelo final](#8)\n",
    "- [9 - Guardando el modelo](#9)\n",
    "- [10 - Conclusiones](#10)"
   ]
  },
  {
   "cell_type": "markdown",
   "id": "42bd6143",
   "metadata": {},
   "source": [
    "<a name=\"1\"></a>\n",
    "## 1. Objetivos\n",
    "\n",
    "Practicar con un problema de procesamiento del lenguaje natural.\n",
    "<br>\n",
    "Aquí, dado un conjunto de tweets, analizar si el sentimiento es positivo, negativo o neutral."
   ]
  },
  {
   "cell_type": "markdown",
   "id": "ec9ea4fd",
   "metadata": {},
   "source": [
    "<a name=\"2\"></a>\n",
    "## 2. Librerías necesarias"
   ]
  },
  {
   "cell_type": "code",
   "execution_count": 1,
   "id": "c5b25607",
   "metadata": {},
   "outputs": [],
   "source": [
    "# que no se impriman info y warnings\n",
    "import os\n",
    "os.environ['TF_CPP_MIN_LOG_LEVEL'] = '2' "
   ]
  },
  {
   "cell_type": "code",
   "execution_count": 2,
   "id": "e6215602",
   "metadata": {},
   "outputs": [],
   "source": [
    "import tensorflow as tf\n",
    "import matplotlib.pyplot as plt\n",
    "import matplotlib.image as mpimg\n",
    "import numpy as np\n",
    "from tensorflow.keras import layers,callbacks,models,Sequential,losses\n",
    "import seaborn as sns\n",
    "from sklearn.metrics import confusion_matrix\n",
    "from tensorflow import keras\n",
    "from keras import backend as K\n",
    "import os,random\n",
    "import pandas as pd\n",
    "from tensorflow.keras.preprocessing.image import ImageDataGenerator\n",
    "from tensorflow.keras.preprocessing.image import ImageDataGenerator\n",
    "from tensorflow.keras.applications.efficientnet import preprocess_input\n",
    "from tensorflow.keras.layers.experimental import preprocessing\n",
    "import seaborn as sns\n",
    "from sklearn.metrics import classification_report, confusion_matrix\n",
    "import csv\n",
    "from datetime import datetime\n",
    "from sklearn.model_selection import train_test_split \n",
    "import nltk\n",
    "from nltk.corpus import stopwords\n",
    "from nltk.stem import WordNetLemmatizer\n",
    "from nltk.corpus import stopwords\n",
    "from nltk.tokenize import word_tokenize\n",
    "import re\n",
    "import tensorflow_hub as hub\n",
    "import keras_tuner"
   ]
  },
  {
   "cell_type": "markdown",
   "id": "8eb2a8f2",
   "metadata": {},
   "source": [
    "<a name=\"3\"></a>\n",
    "## 3. Carga y visualización de datos\n",
    "\n",
    "Tenemos 2 datasets, uno para entrenamiento y otro para test:"
   ]
  },
  {
   "cell_type": "code",
   "execution_count": 11,
   "id": "0d5087c3",
   "metadata": {},
   "outputs": [],
   "source": [
    "train_data_pandas = pd.read_csv('data/Corona_NLP_train.csv',encoding='latin-1')\n",
    "test_data_pandas = pd.read_csv('data/Corona_NLP_test.csv',encoding='latin-1')"
   ]
  },
  {
   "cell_type": "code",
   "execution_count": 12,
   "id": "9cd1da54",
   "metadata": {},
   "outputs": [
    {
     "data": {
      "text/html": [
       "<div>\n",
       "<style scoped>\n",
       "    .dataframe tbody tr th:only-of-type {\n",
       "        vertical-align: middle;\n",
       "    }\n",
       "\n",
       "    .dataframe tbody tr th {\n",
       "        vertical-align: top;\n",
       "    }\n",
       "\n",
       "    .dataframe thead th {\n",
       "        text-align: right;\n",
       "    }\n",
       "</style>\n",
       "<table border=\"1\" class=\"dataframe\">\n",
       "  <thead>\n",
       "    <tr style=\"text-align: right;\">\n",
       "      <th></th>\n",
       "      <th>UserName</th>\n",
       "      <th>ScreenName</th>\n",
       "      <th>Location</th>\n",
       "      <th>TweetAt</th>\n",
       "      <th>OriginalTweet</th>\n",
       "      <th>Sentiment</th>\n",
       "    </tr>\n",
       "  </thead>\n",
       "  <tbody>\n",
       "    <tr>\n",
       "      <th>0</th>\n",
       "      <td>3799</td>\n",
       "      <td>48751</td>\n",
       "      <td>London</td>\n",
       "      <td>16-03-2020</td>\n",
       "      <td>@MeNyrbie @Phil_Gahan @Chrisitv https://t.co/iFz9FAn2Pa and https://t.co/xX6ghGFzCC and https://t.co/I2NlzdxNo8</td>\n",
       "      <td>Neutral</td>\n",
       "    </tr>\n",
       "    <tr>\n",
       "      <th>1</th>\n",
       "      <td>3800</td>\n",
       "      <td>48752</td>\n",
       "      <td>UK</td>\n",
       "      <td>16-03-2020</td>\n",
       "      <td>advice Talk to your neighbours family to exchange phone numbers create contact list with phone numbers of neighbours schools employer chemist GP set up online shopping accounts if poss adequate supplies of regular meds but not over order</td>\n",
       "      <td>Positive</td>\n",
       "    </tr>\n",
       "    <tr>\n",
       "      <th>2</th>\n",
       "      <td>3801</td>\n",
       "      <td>48753</td>\n",
       "      <td>Vagabonds</td>\n",
       "      <td>16-03-2020</td>\n",
       "      <td>Coronavirus Australia: Woolworths to give elderly, disabled dedicated shopping hours amid COVID-19 outbreak https://t.co/bInCA9Vp8P</td>\n",
       "      <td>Positive</td>\n",
       "    </tr>\n",
       "    <tr>\n",
       "      <th>3</th>\n",
       "      <td>3802</td>\n",
       "      <td>48754</td>\n",
       "      <td>NaN</td>\n",
       "      <td>16-03-2020</td>\n",
       "      <td>My food stock is not the only one which is empty...\\r\\r\\n\\r\\r\\nPLEASE, don't panic, THERE WILL BE ENOUGH FOOD FOR EVERYONE if you do not take more than you need. \\r\\r\\nStay calm, stay safe.\\r\\r\\n\\r\\r\\n#COVID19france #COVID_19 #COVID19 #coronavirus #confinement #Confinementotal #ConfinementGeneral https://t.co/zrlG0Z520j</td>\n",
       "      <td>Positive</td>\n",
       "    </tr>\n",
       "    <tr>\n",
       "      <th>4</th>\n",
       "      <td>3803</td>\n",
       "      <td>48755</td>\n",
       "      <td>NaN</td>\n",
       "      <td>16-03-2020</td>\n",
       "      <td>Me, ready to go at supermarket during the #COVID19 outbreak.\\r\\r\\n\\r\\r\\nNot because I'm paranoid, but because my food stock is litteraly empty. The #coronavirus is a serious thing, but please, don't panic. It causes shortage...\\r\\r\\n\\r\\r\\n#CoronavirusFrance #restezchezvous #StayAtHome #confinement https://t.co/usmuaLq72n</td>\n",
       "      <td>Extremely Negative</td>\n",
       "    </tr>\n",
       "    <tr>\n",
       "      <th>5</th>\n",
       "      <td>3804</td>\n",
       "      <td>48756</td>\n",
       "      <td>ÃT: 36.319708,-82.363649</td>\n",
       "      <td>16-03-2020</td>\n",
       "      <td>As news of the regionÂs first confirmed COVID-19 case came out of Sullivan County last week, people flocked to area stores to purchase cleaning supplies, hand sanitizer, food, toilet paper and other goods, @Tim_Dodson reports https://t.co/cfXch7a2lU</td>\n",
       "      <td>Positive</td>\n",
       "    </tr>\n",
       "    <tr>\n",
       "      <th>6</th>\n",
       "      <td>3805</td>\n",
       "      <td>48757</td>\n",
       "      <td>35.926541,-78.753267</td>\n",
       "      <td>16-03-2020</td>\n",
       "      <td>Cashier at grocery store was sharing his insights on #Covid_19 To prove his credibility he commented \"I'm in Civics class so I know what I'm talking about\". https://t.co/ieFDNeHgDO</td>\n",
       "      <td>Positive</td>\n",
       "    </tr>\n",
       "    <tr>\n",
       "      <th>7</th>\n",
       "      <td>3806</td>\n",
       "      <td>48758</td>\n",
       "      <td>Austria</td>\n",
       "      <td>16-03-2020</td>\n",
       "      <td>Was at the supermarket today. Didn't buy toilet paper. #Rebel\\r\\r\\n\\r\\r\\n#toiletpapercrisis #covid_19 https://t.co/eVXkQLIdAZ</td>\n",
       "      <td>Neutral</td>\n",
       "    </tr>\n",
       "    <tr>\n",
       "      <th>8</th>\n",
       "      <td>3807</td>\n",
       "      <td>48759</td>\n",
       "      <td>Atlanta, GA USA</td>\n",
       "      <td>16-03-2020</td>\n",
       "      <td>Due to COVID-19 our retail store and classroom in Atlanta will not be open for walk-in business or classes for the next two weeks, beginning Monday, March 16.  We will continue to process online and phone orders as normal! Thank you for your understanding! https://t.co/kw91zJ5O5i</td>\n",
       "      <td>Positive</td>\n",
       "    </tr>\n",
       "    <tr>\n",
       "      <th>9</th>\n",
       "      <td>3808</td>\n",
       "      <td>48760</td>\n",
       "      <td>BHAVNAGAR,GUJRAT</td>\n",
       "      <td>16-03-2020</td>\n",
       "      <td>For corona prevention,we should stop to buy things with the cash and should use online payment methods because corona can spread through the notes. Also we should prefer online shopping from our home. It's time to fight against COVID 19?. #govindia #IndiaFightsCorona</td>\n",
       "      <td>Negative</td>\n",
       "    </tr>\n",
       "    <tr>\n",
       "      <th>10</th>\n",
       "      <td>3809</td>\n",
       "      <td>48761</td>\n",
       "      <td>Makati, Manila</td>\n",
       "      <td>16-03-2020</td>\n",
       "      <td>All month there hasn't been crowding in the supermarkets or restaurants, however reducing all the hours and closing the malls means everyone is now using the same entrance and dependent on a single supermarket. #manila #lockdown #covid2019 #Philippines https://t.co/HxWs9LAnF9</td>\n",
       "      <td>Neutral</td>\n",
       "    </tr>\n",
       "    <tr>\n",
       "      <th>11</th>\n",
       "      <td>3810</td>\n",
       "      <td>48762</td>\n",
       "      <td>Pitt Meadows, BC, Canada</td>\n",
       "      <td>16-03-2020</td>\n",
       "      <td>Due to the Covid-19 situation, we have increased demand for all food products. \\r\\r\\n\\r\\r\\nThe wait time may be longer for all online orders, particularly beef share and freezer packs. \\r\\r\\n\\r\\r\\nWe thank you for your patience during this time.</td>\n",
       "      <td>Extremely Positive</td>\n",
       "    </tr>\n",
       "    <tr>\n",
       "      <th>12</th>\n",
       "      <td>3811</td>\n",
       "      <td>48763</td>\n",
       "      <td>Horningsea</td>\n",
       "      <td>16-03-2020</td>\n",
       "      <td>#horningsea is a caring community. LetÂs ALL look after the less capable in our village and ensure they stay healthy. Bringing shopping to their doors, help with online shopping and self isolation if you have symptoms or been exposed to somebody who has. https://t.co/lsGrXXhjhh</td>\n",
       "      <td>Extremely Positive</td>\n",
       "    </tr>\n",
       "    <tr>\n",
       "      <th>13</th>\n",
       "      <td>3812</td>\n",
       "      <td>48764</td>\n",
       "      <td>Chicago, IL</td>\n",
       "      <td>16-03-2020</td>\n",
       "      <td>Me: I don't need to stock up on food, I'll just have Amazon deliver whatever I need #CoronaVirus\\r\\r\\n\\r\\r\\nAmazon: https://t.co/8YWaKFjExC</td>\n",
       "      <td>Positive</td>\n",
       "    </tr>\n",
       "    <tr>\n",
       "      <th>14</th>\n",
       "      <td>3813</td>\n",
       "      <td>48765</td>\n",
       "      <td>NaN</td>\n",
       "      <td>16-03-2020</td>\n",
       "      <td>ADARA Releases COVID-19 Resource Center for Travel Brands: Insights Help Travel Brands Stay Up-To-Date on Consumer Travel Behavior Trends https://t.co/PnA797jDKV https://t.co/dQox6uSihz</td>\n",
       "      <td>Positive</td>\n",
       "    </tr>\n",
       "  </tbody>\n",
       "</table>\n",
       "</div>"
      ],
      "text/plain": [
       "    UserName  ScreenName                   Location     TweetAt  \\\n",
       "0       3799       48751                     London  16-03-2020   \n",
       "1       3800       48752                         UK  16-03-2020   \n",
       "2       3801       48753                  Vagabonds  16-03-2020   \n",
       "3       3802       48754                        NaN  16-03-2020   \n",
       "4       3803       48755                        NaN  16-03-2020   \n",
       "5       3804       48756  ÃT: 36.319708,-82.363649  16-03-2020   \n",
       "6       3805       48757       35.926541,-78.753267  16-03-2020   \n",
       "7       3806       48758                    Austria  16-03-2020   \n",
       "8       3807       48759            Atlanta, GA USA  16-03-2020   \n",
       "9       3808       48760           BHAVNAGAR,GUJRAT  16-03-2020   \n",
       "10      3809       48761             Makati, Manila  16-03-2020   \n",
       "11      3810       48762  Pitt Meadows, BC, Canada   16-03-2020   \n",
       "12      3811       48763                 Horningsea  16-03-2020   \n",
       "13      3812       48764                Chicago, IL  16-03-2020   \n",
       "14      3813       48765                        NaN  16-03-2020   \n",
       "\n",
       "                                                                                                                                                                                                                                                                                                                         OriginalTweet  \\\n",
       "0                                                                                                                                                                                                                      @MeNyrbie @Phil_Gahan @Chrisitv https://t.co/iFz9FAn2Pa and https://t.co/xX6ghGFzCC and https://t.co/I2NlzdxNo8   \n",
       "1                                                                                        advice Talk to your neighbours family to exchange phone numbers create contact list with phone numbers of neighbours schools employer chemist GP set up online shopping accounts if poss adequate supplies of regular meds but not over order   \n",
       "2                                                                                                                                                                                                  Coronavirus Australia: Woolworths to give elderly, disabled dedicated shopping hours amid COVID-19 outbreak https://t.co/bInCA9Vp8P   \n",
       "3    My food stock is not the only one which is empty...\\r\\r\\n\\r\\r\\nPLEASE, don't panic, THERE WILL BE ENOUGH FOOD FOR EVERYONE if you do not take more than you need. \\r\\r\\nStay calm, stay safe.\\r\\r\\n\\r\\r\\n#COVID19france #COVID_19 #COVID19 #coronavirus #confinement #Confinementotal #ConfinementGeneral https://t.co/zrlG0Z520j   \n",
       "4   Me, ready to go at supermarket during the #COVID19 outbreak.\\r\\r\\n\\r\\r\\nNot because I'm paranoid, but because my food stock is litteraly empty. The #coronavirus is a serious thing, but please, don't panic. It causes shortage...\\r\\r\\n\\r\\r\\n#CoronavirusFrance #restezchezvous #StayAtHome #confinement https://t.co/usmuaLq72n   \n",
       "5                                                                           As news of the regionÂs first confirmed COVID-19 case came out of Sullivan County last week, people flocked to area stores to purchase cleaning supplies, hand sanitizer, food, toilet paper and other goods, @Tim_Dodson reports https://t.co/cfXch7a2lU   \n",
       "6                                                                                                                                                 Cashier at grocery store was sharing his insights on #Covid_19 To prove his credibility he commented \"I'm in Civics class so I know what I'm talking about\". https://t.co/ieFDNeHgDO   \n",
       "7                                                                                                                                                                                                        Was at the supermarket today. Didn't buy toilet paper. #Rebel\\r\\r\\n\\r\\r\\n#toiletpapercrisis #covid_19 https://t.co/eVXkQLIdAZ   \n",
       "8                                             Due to COVID-19 our retail store and classroom in Atlanta will not be open for walk-in business or classes for the next two weeks, beginning Monday, March 16.  We will continue to process online and phone orders as normal! Thank you for your understanding! https://t.co/kw91zJ5O5i   \n",
       "9                                                          For corona prevention,we should stop to buy things with the cash and should use online payment methods because corona can spread through the notes. Also we should prefer online shopping from our home. It's time to fight against COVID 19?. #govindia #IndiaFightsCorona   \n",
       "10                                                All month there hasn't been crowding in the supermarkets or restaurants, however reducing all the hours and closing the malls means everyone is now using the same entrance and dependent on a single supermarket. #manila #lockdown #covid2019 #Philippines https://t.co/HxWs9LAnF9   \n",
       "11                                                                               Due to the Covid-19 situation, we have increased demand for all food products. \\r\\r\\n\\r\\r\\nThe wait time may be longer for all online orders, particularly beef share and freezer packs. \\r\\r\\n\\r\\r\\nWe thank you for your patience during this time.   \n",
       "12                                             #horningsea is a caring community. LetÂs ALL look after the less capable in our village and ensure they stay healthy. Bringing shopping to their doors, help with online shopping and self isolation if you have symptoms or been exposed to somebody who has. https://t.co/lsGrXXhjhh   \n",
       "13                                                                                                                                                                                         Me: I don't need to stock up on food, I'll just have Amazon deliver whatever I need #CoronaVirus\\r\\r\\n\\r\\r\\nAmazon: https://t.co/8YWaKFjExC   \n",
       "14                                                                                                                                           ADARA Releases COVID-19 Resource Center for Travel Brands: Insights Help Travel Brands Stay Up-To-Date on Consumer Travel Behavior Trends https://t.co/PnA797jDKV https://t.co/dQox6uSihz   \n",
       "\n",
       "             Sentiment  \n",
       "0              Neutral  \n",
       "1             Positive  \n",
       "2             Positive  \n",
       "3             Positive  \n",
       "4   Extremely Negative  \n",
       "5             Positive  \n",
       "6             Positive  \n",
       "7              Neutral  \n",
       "8             Positive  \n",
       "9             Negative  \n",
       "10             Neutral  \n",
       "11  Extremely Positive  \n",
       "12  Extremely Positive  \n",
       "13            Positive  \n",
       "14            Positive  "
      ]
     },
     "execution_count": 12,
     "metadata": {},
     "output_type": "execute_result"
    }
   ],
   "source": [
    "\n",
    "pd.set_option('display.max_colwidth', None) # que No recorte el texto\n",
    "\n",
    "train_data_pandas.head(15)"
   ]
  },
  {
   "cell_type": "markdown",
   "id": "2cc18ed5",
   "metadata": {},
   "source": [
    "<a name=\"4\"></a>\n",
    "## 4. Pre-procesamiento de datos"
   ]
  },
  {
   "cell_type": "markdown",
   "id": "55f705d5",
   "metadata": {},
   "source": [
    "<a name=\"4.1.\"></a>\n",
    "### 4.1. Datos faltantes"
   ]
  },
  {
   "cell_type": "code",
   "execution_count": 13,
   "id": "e27a2e6d",
   "metadata": {},
   "outputs": [
    {
     "name": "stdout",
     "output_type": "stream",
     "text": [
      "Datos faltantes train:\n",
      " UserName            0\n",
      "ScreenName          0\n",
      "Location         8590\n",
      "TweetAt             0\n",
      "OriginalTweet       0\n",
      "Sentiment           0\n",
      "dtype: int64 \n",
      "\n",
      "Datos faltantes test:\n",
      " UserName           0\n",
      "ScreenName         0\n",
      "Location         834\n",
      "TweetAt            0\n",
      "OriginalTweet      0\n",
      "Sentiment          0\n",
      "dtype: int64\n"
     ]
    }
   ],
   "source": [
    "print(f'Datos faltantes train:\\n {train_data_pandas.isnull().sum()} \\n')\n",
    "print(f'Datos faltantes test:\\n {test_data_pandas.isnull().sum()}')"
   ]
  },
  {
   "cell_type": "markdown",
   "id": "0cab1e77",
   "metadata": {},
   "source": [
    "Vemos que no hay datos faltantes en las columnas que nos interesan (OriginalTweet y Sentiment)."
   ]
  },
  {
   "cell_type": "markdown",
   "id": "ecf849bb",
   "metadata": {},
   "source": [
    "<a name=\"4.2\"></a>\n",
    "### 4.2. Datos categóricos \n",
    "\n",
    "Nos interesaremos en las columnas OriginalTweet y Sentiment; a su vez veremos las distintas opciones de esta última columna:"
   ]
  },
  {
   "cell_type": "code",
   "execution_count": 14,
   "id": "a07e94b1",
   "metadata": {},
   "outputs": [
    {
     "data": {
      "text/plain": [
       "array(['Neutral', 'Positive', 'Extremely Negative', 'Negative',\n",
       "       'Extremely Positive'], dtype=object)"
      ]
     },
     "execution_count": 14,
     "metadata": {},
     "output_type": "execute_result"
    }
   ],
   "source": [
    "train_data_pandas['Sentiment'].unique()"
   ]
  },
  {
   "cell_type": "markdown",
   "id": "ce5e5299",
   "metadata": {},
   "source": [
    "Convertiremos esta columna a valores numéricos; a su vez no nos interesa ser tan específicos respecto a si un sentimiento es postivo o extremadamente positivo, más bien distinguiremos entre positivo y negativo. Los neutrales los consideraremos positivos. "
   ]
  },
  {
   "cell_type": "code",
   "execution_count": 15,
   "id": "5bc1e9b6",
   "metadata": {},
   "outputs": [],
   "source": [
    "label_map = {'Extremely Negative':0,'Negative':0,'Neutral':1,'Positive':1,'Extremely Positive':1}\n",
    "train_data_pandas['Sentiment'] = train_data_pandas['Sentiment'].map(label_map)\n",
    "test_data_pandas['Sentiment'] = test_data_pandas['Sentiment'].map(label_map)"
   ]
  },
  {
   "cell_type": "markdown",
   "id": "b58eb476",
   "metadata": {},
   "source": [
    "Chequeamos"
   ]
  },
  {
   "cell_type": "code",
   "execution_count": 16,
   "id": "d725ef6a",
   "metadata": {},
   "outputs": [
    {
     "data": {
      "text/plain": [
       "array([1, 0])"
      ]
     },
     "execution_count": 16,
     "metadata": {},
     "output_type": "execute_result"
    }
   ],
   "source": [
    "train_data_pandas['Sentiment'].unique()"
   ]
  },
  {
   "cell_type": "markdown",
   "id": "11ab485e",
   "metadata": {},
   "source": [
    "<a name=\"4.3\"></a>\n",
    "### 4.3.  Balanceo de clases\n",
    "\n",
    "Veamos si las clases están balanceadas."
   ]
  },
  {
   "cell_type": "code",
   "execution_count": 18,
   "id": "db59aa35",
   "metadata": {},
   "outputs": [],
   "source": [
    "[pos,neg] = train_data_pandas['Sentiment'].value_counts()"
   ]
  },
  {
   "cell_type": "code",
   "execution_count": 22,
   "id": "92665db6",
   "metadata": {},
   "outputs": [
    {
     "data": {
      "text/plain": [
       "'Los cocientes son 63.0% y 37.0%'"
      ]
     },
     "execution_count": 22,
     "metadata": {},
     "output_type": "execute_result"
    }
   ],
   "source": [
    "f\"Los cocientes son {round(pos/(pos+neg),2)*100}% y {round(neg/(pos+neg),2)*100}%\""
   ]
  },
  {
   "cell_type": "markdown",
   "id": "38c3636a",
   "metadata": {},
   "source": [
    "Tenemos un desbalance moderado."
   ]
  },
  {
   "cell_type": "markdown",
   "id": "c0baa4bd",
   "metadata": {},
   "source": [
    "<a name=\"4.4\"> </a>\n",
    "### 4.4. Pre-procesamiento especial para NLP\n",
    "\n",
    "Vamos a pe-procesar el texto de OriginalTweet, para ello:\n",
    "\n",
    "\n",
    "- Quitaremos las stop-words\n",
    "- Quitaremos algunos caracteres especiales, como \"@\"\n",
    "- Aplicaremos Lemmatization\n",
    "\n",
    "\n",
    "<b>Nota:</b> Habría que quitar también las puntuaciones, llevar todo a minúscula y tokenizar, pero eso lo haremos luego con TextVectorization.\n",
    "\n",
    "Descargaremos e imprimiremos para ver las stop words:"
   ]
  },
  {
   "cell_type": "code",
   "execution_count": 23,
   "id": "063ff6f1",
   "metadata": {},
   "outputs": [
    {
     "name": "stdout",
     "output_type": "stream",
     "text": [
      "['i', 'me', 'my', 'myself', 'we', 'our', 'ours', 'ourselves', 'you', \"you're\", \"you've\", \"you'll\", \"you'd\", 'your', 'yours', 'yourself', 'yourselves', 'he', 'him', 'his', 'himself', 'she', \"she's\", 'her', 'hers', 'herself', 'it', \"it's\", 'its', 'itself', 'they', 'them', 'their', 'theirs', 'themselves', 'what', 'which', 'who', 'whom', 'this', 'that', \"that'll\", 'these', 'those', 'am', 'is', 'are', 'was', 'were', 'be', 'been', 'being', 'have', 'has', 'had', 'having', 'do', 'does', 'did', 'doing', 'a', 'an', 'the', 'and', 'but', 'if', 'or', 'because', 'as', 'until', 'while', 'of', 'at', 'by', 'for', 'with', 'about', 'against', 'between', 'into', 'through', 'during', 'before', 'after', 'above', 'below', 'to', 'from', 'up', 'down', 'in', 'out', 'on', 'off', 'over', 'under', 'again', 'further', 'then', 'once', 'here', 'there', 'when', 'where', 'why', 'how', 'all', 'any', 'both', 'each', 'few', 'more', 'most', 'other', 'some', 'such', 'no', 'nor', 'not', 'only', 'own', 'same', 'so', 'than', 'too', 'very', 's', 't', 'can', 'will', 'just', 'don', \"don't\", 'should', \"should've\", 'now', 'd', 'll', 'm', 'o', 're', 've', 'y', 'ain', 'aren', \"aren't\", 'couldn', \"couldn't\", 'didn', \"didn't\", 'doesn', \"doesn't\", 'hadn', \"hadn't\", 'hasn', \"hasn't\", 'haven', \"haven't\", 'isn', \"isn't\", 'ma', 'mightn', \"mightn't\", 'mustn', \"mustn't\", 'needn', \"needn't\", 'shan', \"shan't\", 'shouldn', \"shouldn't\", 'wasn', \"wasn't\", 'weren', \"weren't\", 'won', \"won't\", 'wouldn', \"wouldn't\"]\n"
     ]
    },
    {
     "name": "stderr",
     "output_type": "stream",
     "text": [
      "[nltk_data] Downloading package stopwords to /home/marcos/nltk_data...\n",
      "[nltk_data]   Package stopwords is already up-to-date!\n"
     ]
    }
   ],
   "source": [
    "nltk.download('stopwords')\n",
    "# View stopwords\n",
    "print(stopwords.words('english'))"
   ]
  },
  {
   "cell_type": "markdown",
   "id": "09fb2995",
   "metadata": {},
   "source": [
    "También necesitaremos \"punkt\" y \"wordnet\":"
   ]
  },
  {
   "cell_type": "code",
   "execution_count": 24,
   "id": "eb42d306",
   "metadata": {},
   "outputs": [
    {
     "name": "stderr",
     "output_type": "stream",
     "text": [
      "[nltk_data] Downloading package punkt to /home/marcos/nltk_data...\n",
      "[nltk_data]   Package punkt is already up-to-date!\n",
      "[nltk_data] Downloading package wordnet to /home/marcos/nltk_data...\n",
      "[nltk_data]   Package wordnet is already up-to-date!\n"
     ]
    },
    {
     "data": {
      "text/plain": [
       "True"
      ]
     },
     "execution_count": 24,
     "metadata": {},
     "output_type": "execute_result"
    }
   ],
   "source": [
    "nltk.download('punkt')\n",
    "nltk.download('wordnet')"
   ]
  },
  {
   "cell_type": "markdown",
   "id": "8742b9e5",
   "metadata": {},
   "source": [
    "Quitamos las stop words y aplicaremos la lematización:"
   ]
  },
  {
   "cell_type": "code",
   "execution_count": 25,
   "id": "07e4e80b",
   "metadata": {},
   "outputs": [],
   "source": [
    "# Inicializar lematizador\n",
    "lemmatizer = WordNetLemmatizer()\n",
    "\n",
    "# stop words\n",
    "stop_words = set(stopwords.words('english'))\n",
    "\n",
    "# Función para quitar palabras de parada y lematizar un texto\n",
    "def preprocess_text(text):\n",
    "    words = word_tokenize(text)\n",
    "    filtered_words = [lemmatizer.lemmatize(word.lower()) for word in words if word.lower() not in stop_words]\n",
    "    return ' '.join(filtered_words)\n",
    "\n",
    "# Aplicar la función a la columna 'OriginalTweet' del dataset, tanto en train como test\n",
    "train_data_pandas['OriginalTweet'] = train_data_pandas['OriginalTweet'].apply(preprocess_text)\n",
    "test_data_pandas['OriginalTweet'] = test_data_pandas['OriginalTweet'].apply(preprocess_text)"
   ]
  },
  {
   "cell_type": "markdown",
   "id": "8a03ef59",
   "metadata": {},
   "source": [
    "Además vamos a eliminar caracteres especiales, como @ y # (nos quedaremos con otros, como \"!\", pues pueden ser importantes para el significado)."
   ]
  },
  {
   "cell_type": "code",
   "execution_count": 26,
   "id": "f7dec991",
   "metadata": {},
   "outputs": [],
   "source": [
    "# Eliminar arrobas en direcciones de correo electrónico o menciones\n",
    "def preprocess_text2(text):\n",
    "    return re.sub(r'[@#]', '', text) #&\n",
    "\n",
    "# lo aplicamos\n",
    "train_data_pandas['OriginalTweet'] = train_data_pandas['OriginalTweet'].apply(preprocess_text2)\n",
    "test_data_pandas['OriginalTweet'] = test_data_pandas['OriginalTweet'].apply(preprocess_text2)"
   ]
  },
  {
   "cell_type": "markdown",
   "id": "ec2d04cb",
   "metadata": {},
   "source": [
    "Veamos cómo quedaron los datos:"
   ]
  },
  {
   "cell_type": "code",
   "execution_count": 27,
   "id": "035411d8",
   "metadata": {},
   "outputs": [
    {
     "data": {
      "text/plain": [
       "0                                                                                                                                              menyrbie  phil_gahan  chrisitv http : //t.co/ifz9fan2pa http : //t.co/xx6ghgfzcc http : //t.co/i2nlzdxno8\n",
       "1                                                              advice talk neighbour family exchange phone number create contact list phone number neighbour school employer chemist gp set online shopping account po adequate supply regular med order\n",
       "2                                                                                                                      coronavirus australia : woolworth give elderly , disabled dedicated shopping hour amid covid-19 outbreak http : //t.co/binca9vp8p\n",
       "3                       food stock one empty ... please , n't panic , enough food everyone take need . stay calm , stay safe .  covid19france  covid_19  covid19  coronavirus  confinement  confinementotal  confinementgeneral http : //t.co/zrlg0z520j\n",
       "4        , ready go supermarket  covid19 outbreak . 'm paranoid , food stock litteraly empty .  coronavirus serious thing , please , n't panic . cause shortage ...  coronavirusfrance  restezchezvous  stayathome  confinement http : //t.co/usmualq72n\n",
       "                                                                                                                              ...                                                                                                                       \n",
       "41152                                                                                                                                                     airline pilot offering stock supermarket shelf  nz lockdown  covid-19 http : //t.co/cz89ua0hnp\n",
       "41153                                                                                                                                    response complaint provided citing covid-19 related delay . yet prompt rejecting policy consumer tat . way go ?\n",
       "41154                                                                                                                          know itâs getting tough  kameronwilds rationing toilet paper  coronavirus  toiletpaper  kroger martinsville , help u ! !\n",
       "41155                                                                                                                                                                      wrong smell hand sanitizer starting turn ?  coronavirus  covid19  coronavirus\n",
       "41156                                                       tartiicat well new/used rift going $ 700.00 amazon rn although normal market price usually $ 400.00 . price really crazy right vr headset since hl alex announced 's worse covid-19 . whethe\n",
       "Name: OriginalTweet, Length: 41157, dtype: object"
      ]
     },
     "execution_count": 27,
     "metadata": {},
     "output_type": "execute_result"
    }
   ],
   "source": [
    "train_data_pandas['OriginalTweet']"
   ]
  },
  {
   "cell_type": "markdown",
   "id": "29455bc6",
   "metadata": {},
   "source": [
    "#### Dividimos en train/val"
   ]
  },
  {
   "cell_type": "code",
   "execution_count": 28,
   "id": "3ad75c1c",
   "metadata": {},
   "outputs": [],
   "source": [
    "# Dividir los datos en conjuntos de entrenamiento y validación\n",
    "train_data, val_data = train_test_split(train_data_pandas, test_size=0.2, random_state=42)\n"
   ]
  },
  {
   "cell_type": "markdown",
   "id": "825dfbcf",
   "metadata": {},
   "source": [
    "#### Vamos ahora a crear los datasets para trabajar con tensorflow"
   ]
  },
  {
   "cell_type": "code",
   "execution_count": 29,
   "id": "2756717b",
   "metadata": {},
   "outputs": [],
   "source": [
    "# Cargar el DataFrame de pandas en un objeto tf.data.Dataset\n",
    "# armo según lo que me interesa\n",
    "train_dataset = tf.data.Dataset.from_tensor_slices((train_data['OriginalTweet'].values, \n",
    "                                              train_data['Sentiment'].values))\n",
    "\n",
    "\n",
    "\n",
    "validation_dataset = tf.data.Dataset.from_tensor_slices((val_data['OriginalTweet'].values, \n",
    "                                              val_data['Sentiment'].values))\n",
    "\n"
   ]
  },
  {
   "cell_type": "code",
   "execution_count": 30,
   "id": "6c3d0630",
   "metadata": {},
   "outputs": [
    {
     "name": "stdout",
     "output_type": "stream",
     "text": [
      "text:  b'unemployment claim made online virginia week : monday : 426 tuesday : 2,150 number going get bigger . http : //t.co/fueg2rl2dl'\n",
      "label:  0\n"
     ]
    }
   ],
   "source": [
    "# veo un dato de train\n",
    "for example, label in train_dataset.take(1):\n",
    "  print('text: ', example.numpy())\n",
    "  print('label: ', label.numpy())\n",
    "    "
   ]
  },
  {
   "cell_type": "code",
   "execution_count": 31,
   "id": "a6ae9b01",
   "metadata": {},
   "outputs": [],
   "source": [
    "# Repetimos para test\n",
    "\n",
    "# Cargar el DataFrame de pandas en un objeto tf.data.Dataset\n",
    "test_dataset = tf.data.Dataset.from_tensor_slices((test_data_pandas['OriginalTweet'].values, \n",
    "                                                   test_data_pandas['Sentiment'].values))"
   ]
  },
  {
   "cell_type": "markdown",
   "id": "3b7f9381",
   "metadata": {},
   "source": [
    "Definimos el tamaño del buffer y del lote:"
   ]
  },
  {
   "cell_type": "code",
   "execution_count": 32,
   "id": "130c6023",
   "metadata": {},
   "outputs": [],
   "source": [
    "BUFFER_SIZE = 10000\n",
    "BATCH_SIZE = 64"
   ]
  },
  {
   "cell_type": "code",
   "execution_count": 33,
   "id": "f050ed90",
   "metadata": {},
   "outputs": [],
   "source": [
    "train_dataset = train_dataset.shuffle(BUFFER_SIZE).batch(BATCH_SIZE).prefetch(tf.data.AUTOTUNE)\n",
    "validation_dataset = validation_dataset.shuffle(BUFFER_SIZE).batch(BATCH_SIZE).prefetch(tf.data.AUTOTUNE)\n",
    "test_dataset = test_dataset.batch(BATCH_SIZE).prefetch(tf.data.AUTOTUNE)"
   ]
  },
  {
   "cell_type": "markdown",
   "id": "a5d07a18",
   "metadata": {},
   "source": [
    "Veamos algunos ejemplos y sus etiquetas"
   ]
  },
  {
   "cell_type": "code",
   "execution_count": 34,
   "id": "e3547c95",
   "metadata": {},
   "outputs": [
    {
     "name": "stdout",
     "output_type": "stream",
     "text": [
      "texts:  [b'never realized much face itched grocery store  covid19pandemic .  coronaviruspandemic  covid_19  covid19'\n",
      " b' feedthenation 8,000 worker offered job bid keep supermarket shelf stocked . worker lost job result covid-19 offered new employment & amp ; training opportunity new initiative  stafflineuk  peopleplusuk http : //t.co/arg10eiqal'\n",
      " b'supermarket denmark us price trick stop sanitizer hoarding . bangladesh need step soon well . follow u ?  markedium  sanitizer  coronaviruspandemic  virus  coronachainscare  covid_19  coronavid19  coronacrisis  awareness  markedium http : //t.co/ewxjujz5mg']\n",
      "\n",
      "labels: , [1 1 0]\n"
     ]
    }
   ],
   "source": [
    "for example, label in train_dataset.take(1):\n",
    "  print(f'texts:  {example.numpy()[:3]}\\n')\n",
    "  print(f'labels: , {label.numpy()[:3]}')"
   ]
  },
  {
   "cell_type": "markdown",
   "id": "40570385",
   "metadata": {},
   "source": [
    "Ahora crearemos y aplicaremos una capa llamada <a href=\"https://www.tensorflow.org/api_docs/python/tf/keras/layers/TextVectorization\" target='_blanck'>TextVectorization</a>, que quitará las puntuaciones, pasará todo a minúsculas y tokenizará:"
   ]
  },
  {
   "cell_type": "code",
   "execution_count": 35,
   "id": "ddb36375",
   "metadata": {},
   "outputs": [],
   "source": [
    "VOCAB_SIZE = 10000\n",
    "max_length = 45 # max length our sequences will be (e.g. how many words from a Tweet does a model see?)\n",
    "\n",
    "\n",
    "encoder = tf.keras.layers.TextVectorization(max_tokens=VOCAB_SIZE,\n",
    "                                    output_mode=\"int\")\n",
    "                                    #output_sequence_length=max_length)\n",
    "\n",
    "# Fit the text vectorizer instance to the training data using the adapt() method\n",
    "encoder.adapt(train_dataset.map(lambda text, label: text))\n"
   ]
  },
  {
   "cell_type": "markdown",
   "id": "ee364817",
   "metadata": {},
   "source": [
    "A continuación se muestran los primeros 20 tokens:"
   ]
  },
  {
   "cell_type": "code",
   "execution_count": 36,
   "id": "ada68128",
   "metadata": {},
   "outputs": [
    {
     "data": {
      "text/plain": [
       "array(['', '[UNK]', 'http', 'coronavirus', 'covid19', 'price', 'store',\n",
       "       'supermarket', 'food', 'grocery', 'people', 'amp', 'consumer',\n",
       "       '19', 'covid', 'shopping', 's', 'online', 'need', 'time'],\n",
       "      dtype='<U27')"
      ]
     },
     "execution_count": 36,
     "metadata": {},
     "output_type": "execute_result"
    }
   ],
   "source": [
    "vocab = np.array(encoder.get_vocabulary())\n",
    "vocab[:20]"
   ]
  },
  {
   "cell_type": "markdown",
   "id": "540d7f75",
   "metadata": {},
   "source": [
    "Ahora que el vocabulario está configurado, la capa puede codificar el texto en índices. Los tensores de índices son rellenados con 0s para que tengan el tamaño de la secuencia más larga en el lote.\n",
    "\n",
    "Veamos un ejemplo"
   ]
  },
  {
   "cell_type": "code",
   "execution_count": 37,
   "id": "c80a2ded",
   "metadata": {},
   "outputs": [
    {
     "data": {
      "text/plain": [
       "array([[ 223, 2923,  112,  123,    1,    9,    6, 1276,  264,    4,    4,\n",
       "           0,    0,    0,    0,    0,    0,    0,    0,    0,    0,    0,\n",
       "           0,    0,    0,    0,    0,    0,    0,    0,    0,    0,    0,\n",
       "           0],\n",
       "       [   1, 5905,   22, 1533,  130, 1978,   61,    7,   56,  465,   22,\n",
       "         603,  130,  354,    4, 1533,   42, 1935,   11, 2549,  663,   42,\n",
       "        1868,    1,    1,    2,    1,    0,    0,    0,    0,    0,    0,\n",
       "           0],\n",
       "       [   7, 2963,  361,    5, 2254,   75,   30,  205, 5118,   18,  445,\n",
       "         387,  140,  452,   23,    1,   30,  264,   78,    1,    4, 2665,\n",
       "         126, 1765,    1,    2,    1,    0,    0,    0,    0,    0,    0,\n",
       "           0]])"
      ]
     },
     "execution_count": 37,
     "metadata": {},
     "output_type": "execute_result"
    }
   ],
   "source": [
    "encoded_example = encoder(example)[:3].numpy()\n",
    "encoded_example"
   ]
  },
  {
   "cell_type": "markdown",
   "id": "3741a6cf",
   "metadata": {},
   "source": [
    "Vemos que rellena con 0s hasta tener siempre un largo de 45.\n",
    "\n",
    "Con esta configuración, el proceso no es completamente reversible (no hay un mapeo uno a uno)"
   ]
  },
  {
   "cell_type": "code",
   "execution_count": 38,
   "id": "5d873bce",
   "metadata": {},
   "outputs": [
    {
     "name": "stdout",
     "output_type": "stream",
     "text": [
      "Original:  b'never realized much face itched grocery store  covid19pandemic .  coronaviruspandemic  covid_19  covid19'\n",
      "Round-trip:  never realized much face [UNK] grocery store covid19pandemic coronaviruspandemic covid19 covid19                       \n",
      "\n",
      "Original:  b' feedthenation 8,000 worker offered job bid keep supermarket shelf stocked . worker lost job result covid-19 offered new employment & amp ; training opportunity new initiative  stafflineuk  peopleplusuk http : //t.co/arg10eiqal'\n",
      "Round-trip:  [UNK] 8000 worker offered job bid keep supermarket shelf stocked worker lost job result covid19 offered new employment amp training opportunity new initiative [UNK] [UNK] http [UNK]       \n",
      "\n",
      "Original:  b'supermarket denmark us price trick stop sanitizer hoarding . bangladesh need step soon well . follow u ?  markedium  sanitizer  coronaviruspandemic  virus  coronachainscare  covid_19  coronavid19  coronacrisis  awareness  markedium http : //t.co/ewxjujz5mg'\n",
      "Round-trip:  supermarket denmark us price trick stop sanitizer hoarding bangladesh need step soon well follow u [UNK] sanitizer coronaviruspandemic virus [UNK] covid19 coronavid19 coronacrisis awareness [UNK] http [UNK]       \n",
      "\n"
     ]
    }
   ],
   "source": [
    "for n in range(3):\n",
    "  print(\"Original: \", example[n].numpy())\n",
    "  print(\"Round-trip: \", \" \".join(vocab[encoded_example[n]]))\n",
    "  print()"
   ]
  },
  {
   "cell_type": "markdown",
   "id": "4af48ea7",
   "metadata": {},
   "source": [
    "Puede observarse que hay muchos tokens desconocidos ([UNK])"
   ]
  },
  {
   "cell_type": "markdown",
   "id": "7bbbdb90",
   "metadata": {},
   "source": [
    "Finalmente, aplicaremos una capa de embedding."
   ]
  },
  {
   "cell_type": "code",
   "execution_count": 39,
   "id": "a9a0f1c2",
   "metadata": {},
   "outputs": [
    {
     "data": {
      "text/plain": [
       "<keras.layers.core.embedding.Embedding at 0x7f57f311af20>"
      ]
     },
     "execution_count": 39,
     "metadata": {},
     "output_type": "execute_result"
    }
   ],
   "source": [
    "embedding = tf.keras.layers.Embedding(input_dim=VOCAB_SIZE, # set the input shape; size of our vocabulary\n",
    "                                 output_dim=128, # set the size of the embedding vector\n",
    "                                 embeddings_initializer=\"uniform\", # default, initialize embedding vectors randomly\n",
    "                                 input_length=max_length # how long is each input\n",
    "                             )\n",
    "\n",
    "embedding"
   ]
  },
  {
   "cell_type": "markdown",
   "id": "dbf581ab",
   "metadata": {},
   "source": [
    "<a name=\"5\"> </a>\n",
    "## Modelos\n",
    "\n",
    "Probaremos distinos modelos.\n"
   ]
  },
  {
   "cell_type": "code",
   "execution_count": 40,
   "id": "eb67012f",
   "metadata": {},
   "outputs": [],
   "source": [
    "tf.random.set_seed(42)"
   ]
  },
  {
   "cell_type": "code",
   "execution_count": 41,
   "id": "c1eecc5e",
   "metadata": {},
   "outputs": [],
   "source": [
    "# para guardar los resultados y comparar después\n",
    "\n",
    "results = []\n"
   ]
  },
  {
   "cell_type": "code",
   "execution_count": 42,
   "id": "41080333",
   "metadata": {},
   "outputs": [],
   "source": [
    "INPUT_SHAPE=(1,)"
   ]
  },
  {
   "cell_type": "markdown",
   "id": "9ee0fc1b",
   "metadata": {},
   "source": [
    "<a name=\"5.1\"> </a>\n",
    "### Modelo 1"
   ]
  },
  {
   "cell_type": "code",
   "execution_count": 43,
   "id": "a1bcc6c4",
   "metadata": {},
   "outputs": [],
   "source": [
    "def build_model_1(input_shape,name):\n",
    "    inputs = layers.Input(shape=input_shape, dtype=tf.string) # inputs are 1-dimensional strings\n",
    "    x = encoder(inputs) # turn the input text into numbers \n",
    "    x = embedding(x)\n",
    "    x = tf.keras.layers.GlobalAveragePooling1D()(x)\n",
    "    outputs = tf.keras.layers.Dense(1, activation=\"sigmoid\")(x)\n",
    "    model = tf.keras.Model(inputs, outputs, name=name) # construct the model\n",
    "    return model\n",
    "\n",
    "\n",
    "model_1 = build_model_1(INPUT_SHAPE,'model_1')\n",
    "\n"
   ]
  },
  {
   "cell_type": "code",
   "execution_count": 44,
   "id": "74dadf10",
   "metadata": {},
   "outputs": [
    {
     "name": "stdout",
     "output_type": "stream",
     "text": [
      "Model: \"model_1\"\n",
      "_________________________________________________________________\n",
      " Layer (type)                Output Shape              Param #   \n",
      "=================================================================\n",
      " input_1 (InputLayer)        [(None, 1)]               0         \n",
      "                                                                 \n",
      " text_vectorization (TextVec  (None, None)             0         \n",
      " torization)                                                     \n",
      "                                                                 \n",
      " embedding (Embedding)       (None, None, 128)         1280000   \n",
      "                                                                 \n",
      " global_average_pooling1d (G  (None, 128)              0         \n",
      " lobalAveragePooling1D)                                          \n",
      "                                                                 \n",
      " dense (Dense)               (None, 1)                 129       \n",
      "                                                                 \n",
      "=================================================================\n",
      "Total params: 1,280,129\n",
      "Trainable params: 1,280,129\n",
      "Non-trainable params: 0\n",
      "_________________________________________________________________\n"
     ]
    }
   ],
   "source": [
    "model_1.summary()"
   ]
  },
  {
   "cell_type": "code",
   "execution_count": 46,
   "id": "acacf449",
   "metadata": {},
   "outputs": [],
   "source": [
    "# Compile model\n",
    "model_1.compile(loss=\"binary_crossentropy\",\n",
    "                optimizer=tf.keras.optimizers.Adam(),\n",
    "                metrics=['accuracy', 'Precision','Recall'])\n",
    "\n",
    "# Fit the model\n",
    "history_1 = model_1.fit(train_dataset,\n",
    "                        epochs=5,\n",
    "                        verbose=0,\n",
    "                        validation_data=validation_dataset)\n"
   ]
  },
  {
   "cell_type": "code",
   "execution_count": 47,
   "id": "06393ed0",
   "metadata": {},
   "outputs": [
    {
     "name": "stdout",
     "output_type": "stream",
     "text": [
      "60/60 [==============================] - 0s 2ms/step - loss: 0.4109 - accuracy: 0.8202 - precision: 0.8167 - recall: 0.8827\n"
     ]
    }
   ],
   "source": [
    "# evaluate\n",
    "score1 = model_1.evaluate(test_dataset)"
   ]
  },
  {
   "cell_type": "code",
   "execution_count": 51,
   "id": "d592ce56",
   "metadata": {},
   "outputs": [
    {
     "data": {
      "text/plain": [
       "'La exactitud fue 82.0%, la precisión del 82.0% y el recall de 88.0%'"
      ]
     },
     "execution_count": 51,
     "metadata": {},
     "output_type": "execute_result"
    }
   ],
   "source": [
    "f\"La exactitud fue {round(score1[1],2)*100}%, la precisión del {round(score1[2],2)*100}% y el recall de {round(score1[3],2)*100}%\""
   ]
  },
  {
   "cell_type": "markdown",
   "id": "1f27c720",
   "metadata": {},
   "source": [
    "Guardamos los resultados para poder comparar después\n"
   ]
  },
  {
   "cell_type": "code",
   "execution_count": 52,
   "id": "f2baf67b",
   "metadata": {},
   "outputs": [],
   "source": [
    "\n",
    "model_1_results = {\n",
    "    'name': 'Model 1',\n",
    "    'accuracy':score1[1],\n",
    "    'precision':score1[2],\n",
    "    'recall':score1[3],\n",
    "    'f1-score': (2*(score1[2]*score1[3]))/(score1[2]+score1[3])\n",
    "}\n",
    "\n",
    "\n",
    "results.append(model_1_results)\n"
   ]
  },
  {
   "cell_type": "markdown",
   "id": "8d7c541a",
   "metadata": {},
   "source": [
    "<a name=\"5.2\"> </a>\n",
    "### Modelo 2 : LSTM\n"
   ]
  },
  {
   "cell_type": "markdown",
   "id": "7d5253b3",
   "metadata": {},
   "source": [
    "Arquitectura típica de una RNN:\n",
    "\n",
    "\n",
    "\n",
    "<img src=\"images/arq.png\" width=80%>\n",
    "\n",
    "\n",
    "\n",
    "\n"
   ]
  },
  {
   "cell_type": "code",
   "execution_count": 53,
   "id": "2cc37e23",
   "metadata": {},
   "outputs": [
    {
     "name": "stdout",
     "output_type": "stream",
     "text": [
      "After embedding: (None, None, 128)\n",
      "After LSTM cell: (None, 64)\n"
     ]
    }
   ],
   "source": [
    "def build_model_2(input_shape):\n",
    "    inputs = layers.Input(shape=input_shape, dtype=\"string\")\n",
    "    x = encoder(inputs) # text vectorizer\n",
    "    x = embedding(x)\n",
    "    print(f\"After embedding: {x.shape}\")\n",
    "    x = layers.LSTM(64, activation=\"tanh\")(x)\n",
    "    print(f\"After LSTM cell: {x.shape}\")\n",
    "    x = layers.Dropout(0.5)(x) \n",
    "    x = layers.Dense(64, activation=\"relu\")(x) # optional dense layer to have on top of LSTM layer\n",
    "    outputs = layers.Dense(1, activation=\"sigmoid\")(x)\n",
    "    model = tf.keras.Model(inputs, outputs, name=\"model_2_LSTM\")\n",
    "    return model\n",
    "    \n",
    "\n",
    "model_2 = build_model_2(INPUT_SHAPE)\n",
    "    \n"
   ]
  },
  {
   "cell_type": "code",
   "execution_count": 54,
   "id": "d4ba0a76",
   "metadata": {},
   "outputs": [
    {
     "name": "stdout",
     "output_type": "stream",
     "text": [
      "Model: \"model_2_LSTM\"\n",
      "_________________________________________________________________\n",
      " Layer (type)                Output Shape              Param #   \n",
      "=================================================================\n",
      " input_2 (InputLayer)        [(None, 1)]               0         \n",
      "                                                                 \n",
      " text_vectorization (TextVec  (None, None)             0         \n",
      " torization)                                                     \n",
      "                                                                 \n",
      " embedding (Embedding)       (None, None, 128)         1280000   \n",
      "                                                                 \n",
      " lstm (LSTM)                 (None, 64)                49408     \n",
      "                                                                 \n",
      " dropout (Dropout)           (None, 64)                0         \n",
      "                                                                 \n",
      " dense_1 (Dense)             (None, 64)                4160      \n",
      "                                                                 \n",
      " dense_2 (Dense)             (None, 1)                 65        \n",
      "                                                                 \n",
      "=================================================================\n",
      "Total params: 1,333,633\n",
      "Trainable params: 1,333,633\n",
      "Non-trainable params: 0\n",
      "_________________________________________________________________\n"
     ]
    }
   ],
   "source": [
    "model_2.summary()"
   ]
  },
  {
   "cell_type": "code",
   "execution_count": 55,
   "id": "2607dd97",
   "metadata": {},
   "outputs": [],
   "source": [
    "# Compile model\n",
    "model_2.compile(loss=\"binary_crossentropy\",\n",
    "                optimizer=tf.keras.optimizers.Adam(),\n",
    "                metrics=['accuracy', 'Precision','Recall'])\n",
    "\n",
    "# Fit the model\n",
    "history_2 = model_2.fit(train_dataset,\n",
    "                        epochs=5,\n",
    "                        verbose=0,\n",
    "                        validation_data=validation_dataset)"
   ]
  },
  {
   "cell_type": "code",
   "execution_count": 56,
   "id": "79bdbe56",
   "metadata": {},
   "outputs": [
    {
     "name": "stdout",
     "output_type": "stream",
     "text": [
      "60/60 [==============================] - 0s 8ms/step - loss: 0.6917 - accuracy: 0.8254 - precision: 0.8477 - recall: 0.8457\n"
     ]
    }
   ],
   "source": [
    "# evaluate\n",
    "score2 = model_2.evaluate(test_dataset)"
   ]
  },
  {
   "cell_type": "code",
   "execution_count": 57,
   "id": "d0b91c1c",
   "metadata": {},
   "outputs": [],
   "source": [
    "model_2_results = {\n",
    "    'name': 'Model 2',\n",
    "    'accuracy':score2[1],\n",
    "    'precision':score2[2],\n",
    "    'recall':score2[3],\n",
    "    'f1-score': (2*(score2[2]*score2[3]))/(score2[2]+score2[3])\n",
    "}\n",
    "\n",
    "\n",
    "results.append(model_2_results)\n"
   ]
  },
  {
   "cell_type": "markdown",
   "id": "a8c3230a",
   "metadata": {},
   "source": [
    "<a name=\"5.3\"> </a>\n",
    "### Modelo 3 : GRU"
   ]
  },
  {
   "cell_type": "code",
   "execution_count": 58,
   "id": "4e9fec95",
   "metadata": {},
   "outputs": [],
   "source": [
    "def build_model_3(input_shape):\n",
    "    inputs = layers.Input(shape=(1,), dtype=\"string\")\n",
    "    x = encoder(inputs)\n",
    "    x = embedding(x)\n",
    "    x = layers.GRU(64, activation=\"tanh\")(x)\n",
    "    x = layers.Dense(64, activation=\"relu\")(x)\n",
    "    outputs = layers.Dense(1, activation=\"sigmoid\")(x)\n",
    "    model= tf.keras.Model(inputs, outputs, name=\"model_3_GRU\")\n",
    "    return model\n",
    "\n",
    "\n",
    "model_3 = build_model_3(INPUT_SHAPE)\n"
   ]
  },
  {
   "cell_type": "code",
   "execution_count": 59,
   "id": "1d269a4f",
   "metadata": {},
   "outputs": [],
   "source": [
    "# Compile model\n",
    "model_3.compile(loss=\"binary_crossentropy\",\n",
    "                optimizer=tf.keras.optimizers.Adam(),\n",
    "                metrics=['accuracy', 'Precision','Recall'])\n",
    "\n",
    "# Fit the model\n",
    "history_3 = model_3.fit(train_dataset,\n",
    "                        epochs=5,\n",
    "                        verbose=0,\n",
    "                        validation_data=validation_dataset)"
   ]
  },
  {
   "cell_type": "code",
   "execution_count": 60,
   "id": "013865ff",
   "metadata": {},
   "outputs": [
    {
     "name": "stdout",
     "output_type": "stream",
     "text": [
      "60/60 [==============================] - 0s 7ms/step - loss: 0.7857 - accuracy: 0.8167 - precision: 0.8151 - recall: 0.8776\n"
     ]
    }
   ],
   "source": [
    "# evaluate\n",
    "score3 = model_3.evaluate(test_dataset)\n",
    "\n"
   ]
  },
  {
   "cell_type": "code",
   "execution_count": 61,
   "id": "5c9ae9f7",
   "metadata": {},
   "outputs": [],
   "source": [
    "model_3_results = {\n",
    "    'name': 'Model 3',\n",
    "    'accuracy':score3[1],\n",
    "    'precision':score3[2],\n",
    "    'recall':score3[3],\n",
    "    'f1-score': (2*(score3[2]*score3[3]))/(score3[2]+score3[3])\n",
    "}\n",
    "\n",
    "\n",
    "results.append(model_3_results)"
   ]
  },
  {
   "cell_type": "markdown",
   "id": "8dfbf2c5",
   "metadata": {},
   "source": [
    "<a name=\"5.4\"> </a>\n",
    "### Modelo 4 : Bidirectional RNN model"
   ]
  },
  {
   "cell_type": "markdown",
   "id": "142f56ab",
   "metadata": {},
   "source": [
    "<img src=\"images/model4.png\">"
   ]
  },
  {
   "cell_type": "code",
   "execution_count": 62,
   "id": "850e46de",
   "metadata": {},
   "outputs": [],
   "source": [
    "def build_model_4(input_shape):\n",
    "    inputs = layers.Input(shape=input_shape, dtype=\"string\")\n",
    "    x = encoder(inputs)\n",
    "    x = embedding(x)\n",
    "    x = layers.Bidirectional(layers.LSTM(64))(x)\n",
    "    x = layers.Dense(64, activation='relu')(x)\n",
    "    outputs = layers.Dense(1, activation=\"sigmoid\")(x)\n",
    "    model = tf.keras.Model(inputs, outputs, name=\"model_4_bidirectional\")\n",
    "    return model\n",
    "\n",
    "model_4 = build_model_4(INPUT_SHAPE)\n",
    "    \n",
    "    "
   ]
  },
  {
   "cell_type": "code",
   "execution_count": 64,
   "id": "3f6c3673",
   "metadata": {},
   "outputs": [],
   "source": [
    "# Compile model\n",
    "model_4.compile(loss=\"binary_crossentropy\",\n",
    "                optimizer=tf.keras.optimizers.Adam(),\n",
    "                metrics=['accuracy', 'Precision','Recall'])\n",
    "\n",
    "# Fit the model\n",
    "history_4 = model_4.fit(train_dataset,\n",
    "                        epochs=5,\n",
    "                        verbose=0,\n",
    "                        validation_data=validation_dataset)"
   ]
  },
  {
   "cell_type": "code",
   "execution_count": 65,
   "id": "db277251",
   "metadata": {},
   "outputs": [
    {
     "name": "stdout",
     "output_type": "stream",
     "text": [
      "60/60 [==============================] - 1s 11ms/step - loss: 1.0913 - accuracy: 0.8120 - precision: 0.8034 - recall: 0.8873\n"
     ]
    }
   ],
   "source": [
    "# evaluate\n",
    "score4 = model_4.evaluate(test_dataset)"
   ]
  },
  {
   "cell_type": "code",
   "execution_count": 66,
   "id": "a25af72c",
   "metadata": {},
   "outputs": [],
   "source": [
    "model_4_results = {\n",
    "    'name': 'Model 4',\n",
    "    'accuracy':score4[1],\n",
    "    'precision':score4[2],\n",
    "    'recall':score4[3],\n",
    "    'f1-score': (2*(score3[2]*score3[3]))/(score3[2]+score3[3])\n",
    "}\n",
    "\n",
    "\n",
    "results.append(model_4_results)"
   ]
  },
  {
   "cell_type": "markdown",
   "id": "82409cee",
   "metadata": {},
   "source": [
    "<a name=\"5.5\"> </a>\n",
    "### Modelo 5 : Stacking layers"
   ]
  },
  {
   "cell_type": "markdown",
   "id": "ff19c816",
   "metadata": {},
   "source": [
    "<img src='images/model5.png'>"
   ]
  },
  {
   "cell_type": "code",
   "execution_count": 67,
   "id": "72143fdc",
   "metadata": {},
   "outputs": [
    {
     "name": "stdout",
     "output_type": "stream",
     "text": [
      "Model: \"model_5\"\n",
      "_________________________________________________________________\n",
      " Layer (type)                Output Shape              Param #   \n",
      "=================================================================\n",
      " input_5 (InputLayer)        [(None, 1)]               0         \n",
      "                                                                 \n",
      " text_vectorization (TextVec  (None, None)             0         \n",
      " torization)                                                     \n",
      "                                                                 \n",
      " embedding (Embedding)       (None, None, 128)         1280000   \n",
      "                                                                 \n",
      " bidirectional_1 (Bidirectio  (None, None, 128)        98816     \n",
      " nal)                                                            \n",
      "                                                                 \n",
      " bidirectional_2 (Bidirectio  (None, 64)               41216     \n",
      " nal)                                                            \n",
      "                                                                 \n",
      " dense_7 (Dense)             (None, 64)                4160      \n",
      "                                                                 \n",
      " dropout_1 (Dropout)         (None, 64)                0         \n",
      "                                                                 \n",
      " dense_8 (Dense)             (None, 1)                 65        \n",
      "                                                                 \n",
      "=================================================================\n",
      "Total params: 1,424,257\n",
      "Trainable params: 1,424,257\n",
      "Non-trainable params: 0\n",
      "_________________________________________________________________\n"
     ]
    }
   ],
   "source": [
    "\n",
    "# text vect. en la foto de arriba y la dense\n",
    "\n",
    "def build_model_5(input_shape,name):\n",
    "    inputs = layers.Input(shape=input_shape, dtype='string')\n",
    "    x = encoder(inputs)\n",
    "    x = embedding(x)\n",
    "    x = layers.Bidirectional(layers.LSTM(64, return_sequences=True))(x) # return_sequences=True para apilar capas\n",
    "    x = layers.Bidirectional(layers.LSTM(32))(x)\n",
    "    x = layers.Dense(64, activation='relu')(x)\n",
    "    x = tf.keras.layers.Dropout(0.5)(x)\n",
    "    outputs = layers.Dense(1, activation='sigmoid')(x)\n",
    "    model = tf.keras.Model(inputs, outputs, name=name)\n",
    "    return model\n",
    "    \n",
    "\n",
    "model_5 = build_model_5(INPUT_SHAPE, 'model_5')\n",
    "\n",
    "model_5.summary()\n"
   ]
  },
  {
   "cell_type": "code",
   "execution_count": 68,
   "id": "601a2472",
   "metadata": {},
   "outputs": [],
   "source": [
    "# Compile model\n",
    "model_5.compile(loss='binary_crossentropy',\n",
    "                optimizer=tf.keras.optimizers.Adam(),\n",
    "                metrics=['accuracy', 'Precision','Recall'])\n",
    "\n",
    "# Fit the model\n",
    "history_5 = model_5.fit(train_dataset,\n",
    "                        epochs=5,\n",
    "                        verbose=0,\n",
    "                        validation_data=validation_dataset)"
   ]
  },
  {
   "cell_type": "code",
   "execution_count": 69,
   "id": "70886d92",
   "metadata": {},
   "outputs": [
    {
     "name": "stdout",
     "output_type": "stream",
     "text": [
      "60/60 [==============================] - 1s 17ms/step - loss: 1.3003 - accuracy: 0.7859 - precision: 0.7649 - recall: 0.9016\n"
     ]
    }
   ],
   "source": [
    "# evaluate\n",
    "score5 = model_5.evaluate(test_dataset)"
   ]
  },
  {
   "cell_type": "code",
   "execution_count": 70,
   "id": "2f190203",
   "metadata": {},
   "outputs": [],
   "source": [
    "model_5_results = {\n",
    "    'name': 'Model 5',\n",
    "    'accuracy':score5[1],\n",
    "    'precision':score5[2],\n",
    "    'recall':score5[3],\n",
    "    'f1-score': (2*(score5[2]*score5[3]))/(score5[2]+score5[3])\n",
    "}\n",
    "\n",
    "\n",
    "results.append(model_5_results)"
   ]
  },
  {
   "cell_type": "markdown",
   "id": "7335bb64",
   "metadata": {},
   "source": [
    "<a name=\"5.6\"> </a>\n",
    "### Modelo 6 : Conv1D\n",
    "\n",
    "We've seen before how convolutional neural networks can be used for images but they can also be used for text.\n",
    "\n",
    "Previously we've used the layer Conv2D (which is great for images with (height, width)).\n",
    "\n",
    "But if we want to use convolutional layers for sequences (e.g. text) we need to use Conv1D: https://www.tensorflow.org/api_docs/python/tf/keras/layers/Conv1D\n",
    "\n",
    "For more of a deep dive into what goes on behind the scenes in a CNN for text (or sequences) see the paper: https://arxiv.org/abs/1809.08037"
   ]
  },
  {
   "cell_type": "code",
   "execution_count": 72,
   "id": "a511b0d3",
   "metadata": {},
   "outputs": [],
   "source": [
    "def build_model_6(input_shape,name):\n",
    "    inputs = layers.Input(shape=input_shape, dtype='string')\n",
    "    x = encoder(inputs)\n",
    "    x = embedding(x)\n",
    "    x = layers.Conv1D(filters=32, kernel_size=5, activation=\"relu\")(x)\n",
    "    x = layers.GlobalMaxPool1D()(x)\n",
    "    outputs = layers.Dense(1, activation=\"sigmoid\", name=\"output_layer\")(x)\n",
    "    model = tf.keras.Model(inputs, outputs, name=name)\n",
    "    return model\n",
    "    \n",
    "    \n",
    "model_6 = build_model_6(INPUT_SHAPE, 'model_5')"
   ]
  },
  {
   "cell_type": "code",
   "execution_count": 73,
   "id": "7ca9889d",
   "metadata": {},
   "outputs": [
    {
     "name": "stdout",
     "output_type": "stream",
     "text": [
      "Model: \"model_5\"\n",
      "_________________________________________________________________\n",
      " Layer (type)                Output Shape              Param #   \n",
      "=================================================================\n",
      " input_7 (InputLayer)        [(None, 1)]               0         \n",
      "                                                                 \n",
      " text_vectorization (TextVec  (None, None)             0         \n",
      " torization)                                                     \n",
      "                                                                 \n",
      " embedding (Embedding)       (None, None, 128)         1280000   \n",
      "                                                                 \n",
      " conv1d_1 (Conv1D)           (None, None, 32)          20512     \n",
      "                                                                 \n",
      " global_max_pooling1d_1 (Glo  (None, 32)               0         \n",
      " balMaxPooling1D)                                                \n",
      "                                                                 \n",
      " output_layer (Dense)        (None, 1)                 33        \n",
      "                                                                 \n",
      "=================================================================\n",
      "Total params: 1,300,545\n",
      "Trainable params: 1,300,545\n",
      "Non-trainable params: 0\n",
      "_________________________________________________________________\n"
     ]
    }
   ],
   "source": [
    "model_6.summary()"
   ]
  },
  {
   "cell_type": "code",
   "execution_count": 74,
   "id": "8a67fbba",
   "metadata": {},
   "outputs": [],
   "source": [
    "# Compile model\n",
    "model_6.compile(loss=\"binary_crossentropy\",\n",
    "                optimizer=tf.keras.optimizers.Adam(),\n",
    "                metrics=['accuracy', 'Precision','Recall'])\n",
    "\n",
    "# Fit the model\n",
    "history_6 = model_6.fit(train_dataset,\n",
    "                        batch_size=BATCH_SIZE,\n",
    "                        epochs=5,\n",
    "                        verbose=0,\n",
    "                        validation_data=validation_dataset)"
   ]
  },
  {
   "cell_type": "code",
   "execution_count": 75,
   "id": "767937e4",
   "metadata": {},
   "outputs": [
    {
     "name": "stdout",
     "output_type": "stream",
     "text": [
      "60/60 [==============================] - 0s 3ms/step - loss: 0.7271 - accuracy: 0.8133 - precision: 0.8247 - recall: 0.8540\n"
     ]
    }
   ],
   "source": [
    "# evaluate\n",
    "score6 = model_6.evaluate(test_dataset)"
   ]
  },
  {
   "cell_type": "code",
   "execution_count": 76,
   "id": "b0c2e53c",
   "metadata": {},
   "outputs": [],
   "source": [
    "model_6_results = {\n",
    "    'name': 'Model 6',\n",
    "    'accuracy':score6[1],\n",
    "    'precision':score6[2],\n",
    "    'recall':score6[3],\n",
    "    'f1-score': (2*(score6[2]*score6[3]))/(score6[2]+score6[3])\n",
    "}\n",
    "\n",
    "\n",
    "results.append(model_6_results)"
   ]
  },
  {
   "cell_type": "markdown",
   "id": "f7c20d17",
   "metadata": {},
   "source": [
    "<a name=\"5.7\"> </a>\n",
    "### Model 7: TensorFlow Hub Pretrained Sentence Encoder\n",
    "\n",
    "Now we've built a few of our own models, let's try and use transfer learning for NLP, specifically using TensorFlow Hub's Universal Sentence Encoder: https://tfhub.dev/google/universal-sentence-encoder/4\n",
    "\n",
    "See how the USE was created here: https://arxiv.org/abs/1803.11175\n",
    "\n",
    "📖 **Resource:** TensorFlow Hub is a great resource for many pretrained models but HuggingFace is also another incredible resource for many pretrained NLP models (using HuggingFace model is beyond the scope of this course but it is definitely something you should be familiar with in the NLP space): https://huggingface.co/models"
   ]
  },
  {
   "cell_type": "code",
   "execution_count": 77,
   "id": "23ef7e8a",
   "metadata": {},
   "outputs": [
    {
     "name": "stdout",
     "output_type": "stream",
     "text": [
      "WARNING:tensorflow:Please fix your imports. Module tensorflow.python.training.tracking.data_structures has been moved to tensorflow.python.trackable.data_structures. The old module will be deleted in version 2.11.\n"
     ]
    }
   ],
   "source": [
    "# Create a Keras Layer using the USE pretrained layer from tensorflow hub\n",
    "# se encarga de text vectorization y embedding\n",
    "\n",
    "sentence_encoder_layer = hub.KerasLayer(\"https://tfhub.dev/google/universal-sentence-encoder/4\",\n",
    "                                        input_shape=[],\n",
    "                                        dtype=tf.string,\n",
    "                                        trainable=False,\n",
    "                                        name=\"USE\")\n"
   ]
  },
  {
   "cell_type": "code",
   "execution_count": 79,
   "id": "39718f3d",
   "metadata": {},
   "outputs": [
    {
     "name": "stdout",
     "output_type": "stream",
     "text": [
      "Model: \"model_7\"\n",
      "_________________________________________________________________\n",
      " Layer (type)                Output Shape              Param #   \n",
      "=================================================================\n",
      " input_layer (InputLayer)    [(None, 1)]               0         \n",
      "                                                                 \n",
      " tf.compat.v1.squeeze_1 (TFO  (None,)                  0         \n",
      " pLambda)                                                        \n",
      "                                                                 \n",
      " USE (KerasLayer)            (None, 512)               256797824 \n",
      "                                                                 \n",
      " dense_10 (Dense)            (None, 64)                32832     \n",
      "                                                                 \n",
      " output_layer (Dense)        (None, 1)                 65        \n",
      "                                                                 \n",
      "=================================================================\n",
      "Total params: 256,830,721\n",
      "Trainable params: 32,897\n",
      "Non-trainable params: 256,797,824\n",
      "_________________________________________________________________\n"
     ]
    }
   ],
   "source": [
    "def build_model_7(input_shape,name):\n",
    "    # Entrada del modelo\n",
    "    input_layer = layers.Input(shape=input_shape, dtype=tf.string, name=\"input_layer\")\n",
    "    squeezed_input = tf.squeeze(input_layer, axis=-1)\n",
    "    # Capa de codificación de oraciones\n",
    "    sentence_encoding = sentence_encoder_layer(squeezed_input)\n",
    "    # Capa completamente conectada con activación ReLU\n",
    "    dense_layer = layers.Dense(64, activation=\"relu\")(sentence_encoding)\n",
    "    # Capa de salida con activación sigmoide\n",
    "    output_layer = layers.Dense(1, activation=\"sigmoid\", name=\"output_layer\")(dense_layer)\n",
    "    # Crear el modelo funcional\n",
    "    model = tf.keras.Model(inputs=input_layer, outputs=output_layer, name=name)\n",
    "    return model\n",
    "\n",
    "\n",
    "model_7 = build_model_7(INPUT_SHAPE,'model_7')\n",
    "\n",
    "model_7.summary()"
   ]
  },
  {
   "cell_type": "code",
   "execution_count": 80,
   "id": "c96fff12",
   "metadata": {},
   "outputs": [],
   "source": [
    "# Compile model\n",
    "model_7.compile(loss=\"binary_crossentropy\",\n",
    "                optimizer=tf.keras.optimizers.Adam(),\n",
    "                metrics=['accuracy', 'Precision','Recall'])\n",
    "\n",
    "\n",
    "# Fit the model\n",
    "history_7 = model_7.fit(train_dataset,\n",
    "                        epochs=5,\n",
    "                        verbose=0,\n",
    "                        validation_data=validation_dataset)"
   ]
  },
  {
   "cell_type": "code",
   "execution_count": 81,
   "id": "71c7fb49",
   "metadata": {},
   "outputs": [
    {
     "name": "stdout",
     "output_type": "stream",
     "text": [
      "60/60 [==============================] - 1s 9ms/step - loss: 0.5138 - accuracy: 0.7493 - precision: 0.7552 - recall: 0.8291\n"
     ]
    }
   ],
   "source": [
    "# evaluate\n",
    "score7 = model_7.evaluate(test_dataset)"
   ]
  },
  {
   "cell_type": "code",
   "execution_count": 82,
   "id": "47e671d9",
   "metadata": {},
   "outputs": [],
   "source": [
    "model_7_results = {\n",
    "    'name': 'Model 7',\n",
    "    'accuracy':score7[1],\n",
    "    'precision':score7[2],\n",
    "    'recall':score7[3],\n",
    "    'f1-score': (2*(score7[2]*score7[3]))/(score7[2]+score7[3])\n",
    "}\n",
    "\n",
    "\n",
    "results.append(model_7_results)"
   ]
  },
  {
   "cell_type": "markdown",
   "id": "a9befb56",
   "metadata": {},
   "source": [
    "<a name=\"6\"> </a>\n",
    "## Comparando los modelos y eligiendo el mejor"
   ]
  },
  {
   "cell_type": "code",
   "execution_count": 83,
   "id": "41b0c64d",
   "metadata": {},
   "outputs": [
    {
     "data": {
      "text/html": [
       "<div>\n",
       "<style scoped>\n",
       "    .dataframe tbody tr th:only-of-type {\n",
       "        vertical-align: middle;\n",
       "    }\n",
       "\n",
       "    .dataframe tbody tr th {\n",
       "        vertical-align: top;\n",
       "    }\n",
       "\n",
       "    .dataframe thead th {\n",
       "        text-align: right;\n",
       "    }\n",
       "</style>\n",
       "<table border=\"1\" class=\"dataframe\">\n",
       "  <thead>\n",
       "    <tr style=\"text-align: right;\">\n",
       "      <th></th>\n",
       "      <th>name</th>\n",
       "      <th>accuracy</th>\n",
       "      <th>precision</th>\n",
       "      <th>recall</th>\n",
       "      <th>f1-score</th>\n",
       "    </tr>\n",
       "  </thead>\n",
       "  <tbody>\n",
       "    <tr>\n",
       "      <th>0</th>\n",
       "      <td>Model 1</td>\n",
       "      <td>0.820168</td>\n",
       "      <td>0.816667</td>\n",
       "      <td>0.882679</td>\n",
       "      <td>0.848391</td>\n",
       "    </tr>\n",
       "    <tr>\n",
       "      <th>1</th>\n",
       "      <td>Model 2</td>\n",
       "      <td>0.825434</td>\n",
       "      <td>0.847685</td>\n",
       "      <td>0.845728</td>\n",
       "      <td>0.846705</td>\n",
       "    </tr>\n",
       "    <tr>\n",
       "      <th>2</th>\n",
       "      <td>Model 3</td>\n",
       "      <td>0.816746</td>\n",
       "      <td>0.815101</td>\n",
       "      <td>0.877598</td>\n",
       "      <td>0.845196</td>\n",
       "    </tr>\n",
       "    <tr>\n",
       "      <th>3</th>\n",
       "      <td>Model 4</td>\n",
       "      <td>0.812006</td>\n",
       "      <td>0.803430</td>\n",
       "      <td>0.887298</td>\n",
       "      <td>0.845196</td>\n",
       "    </tr>\n",
       "    <tr>\n",
       "      <th>4</th>\n",
       "      <td>Model 5</td>\n",
       "      <td>0.785940</td>\n",
       "      <td>0.764890</td>\n",
       "      <td>0.901617</td>\n",
       "      <td>0.827645</td>\n",
       "    </tr>\n",
       "    <tr>\n",
       "      <th>5</th>\n",
       "      <td>Model 6</td>\n",
       "      <td>0.813323</td>\n",
       "      <td>0.824710</td>\n",
       "      <td>0.854042</td>\n",
       "      <td>0.839120</td>\n",
       "    </tr>\n",
       "    <tr>\n",
       "      <th>6</th>\n",
       "      <td>Model 7</td>\n",
       "      <td>0.749342</td>\n",
       "      <td>0.755154</td>\n",
       "      <td>0.829099</td>\n",
       "      <td>0.790401</td>\n",
       "    </tr>\n",
       "  </tbody>\n",
       "</table>\n",
       "</div>"
      ],
      "text/plain": [
       "      name  accuracy  precision    recall  f1-score\n",
       "0  Model 1  0.820168   0.816667  0.882679  0.848391\n",
       "1  Model 2  0.825434   0.847685  0.845728  0.846705\n",
       "2  Model 3  0.816746   0.815101  0.877598  0.845196\n",
       "3  Model 4  0.812006   0.803430  0.887298  0.845196\n",
       "4  Model 5  0.785940   0.764890  0.901617  0.827645\n",
       "5  Model 6  0.813323   0.824710  0.854042  0.839120\n",
       "6  Model 7  0.749342   0.755154  0.829099  0.790401"
      ]
     },
     "execution_count": 83,
     "metadata": {},
     "output_type": "execute_result"
    }
   ],
   "source": [
    "# Combine model results into a DataFrame\n",
    "all_model_results = pd.DataFrame(results)\n",
    "all_model_results"
   ]
  },
  {
   "cell_type": "code",
   "execution_count": 84,
   "id": "51832f92",
   "metadata": {},
   "outputs": [
    {
     "data": {
      "image/png": "[encoded data removed]",
      "text/plain": [
       "<Figure size 800x600 with 1 Axes>"
      ]
     },
     "metadata": {},
     "output_type": "display_data"
    }
   ],
   "source": [
    "#all_model_results.plot(kind=\"bar\", figsize=(10, 7)).legend(bbox_to_anchor=(1.0, 1.0));\n",
    "\n",
    "df = pd.DataFrame(results)\n",
    "\n",
    "\n",
    "\n",
    "# Configurar el tamaño de la figura\n",
    "plt.figure(figsize=(8, 6))\n",
    "\n",
    "\n",
    "# Configurar el gráfico de barras\n",
    "bar_width = 0.2\n",
    "bar_positions = range(len(df['name']))\n",
    "colors = ['blue', 'orange', 'green', 'red']\n",
    "\n",
    "# Crear barras para cada métrica\n",
    "plt.bar(bar_positions, df['accuracy'], width=bar_width, label='Accuracy', color=colors[0])\n",
    "plt.bar([pos + bar_width for pos in bar_positions], df['precision'], width=bar_width, label='Precision', color=colors[1])\n",
    "plt.bar([pos + 2*bar_width for pos in bar_positions], df['recall'], width=bar_width, label='Recall', color=colors[2])\n",
    "plt.bar([pos + 3*bar_width for pos in bar_positions], df['f1-score'], width=bar_width, label='F1-score', color=colors[3])\n",
    "\n",
    "\n",
    "\n",
    "# Añadir etiquetas y título\n",
    "plt.xlabel('Model',fontweight='bold')\n",
    "plt.ylabel('Scores',fontweight='bold')\n",
    "plt.title('Comparison of Metrics for Different Models',fontweight='bold')\n",
    "plt.xticks([pos + 1.5*bar_width for pos in bar_positions], df['name'])\n",
    "\n",
    "# Añadir leyenda\n",
    "plt.legend()\n",
    "\n",
    "# Mostrar el gráfico de barras\n",
    "plt.show()\n",
    "\n"
   ]
  },
  {
   "cell_type": "markdown",
   "id": "b586c787",
   "metadata": {},
   "source": [
    "Como tenemos cierto desbalance de clases (63/37) para elegir el mejor modelo consideraremos como métrica el F1-score.\n",
    "\n",
    "Debe tenerse en cuenta, que esto es una simplificación, pues entrenamos solamente por 5 epochs y no estamos tomando en cuenta otros factores, como qué modelos son más propensos al overfitting, cuál tarda más al entrenarse y en la inferencia...\n"
   ]
  },
  {
   "cell_type": "code",
   "execution_count": 86,
   "id": "d121a287",
   "metadata": {},
   "outputs": [
    {
     "data": {
      "image/png": "[encoded data removed]",
      "text/plain": [
       "<Figure size 1000x700 with 1 Axes>"
      ]
     },
     "metadata": {},
     "output_type": "display_data"
    }
   ],
   "source": [
    "# Supongamos que df es tu DataFrame\n",
    "df.sort_values(\"f1-score\", ascending=False)[\"f1-score\"].plot(kind=\"bar\", figsize=(10, 7), color=['blue', 'green', 'red', 'purple', 'orange'])\n",
    "\n",
    "plt.title('Gráfico de barras con colores distintos')\n",
    "plt.xlabel('Categorías')\n",
    "plt.ylabel('F1 Score')\n",
    "plt.show()\n"
   ]
  },
  {
   "cell_type": "code",
   "execution_count": 87,
   "id": "1d38eae0",
   "metadata": {},
   "outputs": [],
   "source": [
    "indice_max = all_model_results['f1-score'].idxmax()\n",
    "\n",
    "best_model = all_model_results['name'][0]"
   ]
  },
  {
   "cell_type": "code",
   "execution_count": 88,
   "id": "69ec54b3",
   "metadata": {},
   "outputs": [
    {
     "data": {
      "text/plain": [
       "'El mejor modelo siguiendo el criterio de mayor F1-score es Model 1'"
      ]
     },
     "execution_count": 88,
     "metadata": {},
     "output_type": "execute_result"
    }
   ],
   "source": [
    "f\"El mejor modelo siguiendo el criterio de mayor F1-score es {best_model}\""
   ]
  },
  {
   "cell_type": "markdown",
   "id": "39796c0c",
   "metadata": {},
   "source": [
    "<a name=\"7\"></a>\n",
    "## 7. Ajuste de hiperparámetros"
   ]
  },
  {
   "cell_type": "markdown",
   "id": "e8e52a59",
   "metadata": {},
   "source": [
    "Probaremos con diferentes valores para la tasa de aprendizaje y por supuesto entrenaremos por más epochs.\n",
    "También usaremos callbacks, como Early Stopping."
   ]
  },
  {
   "cell_type": "code",
   "execution_count": 89,
   "id": "a3a9851f",
   "metadata": {},
   "outputs": [],
   "source": [
    "class MyHyperModel(keras_tuner.HyperModel) :\n",
    "     def build(self, hp,input_shape=INPUT_SHAPE):\n",
    "        inputs = layers.Input(shape=input_shape, dtype=tf.string)\n",
    "        x = encoder(inputs)\n",
    "        x = embedding(x)\n",
    "        x = tf.keras.layers.GlobalAveragePooling1D()(x)\n",
    "        outputs = tf.keras.layers.Dense(1, activation=\"sigmoid\")(x)\n",
    "        model = tf.keras.Model(inputs, outputs, name=\"model_1_dense\")\n",
    "        # compile\n",
    "        model.compile(optimizer=hp.Choice('optim',['adam','adamax','sgd']),\n",
    "                      loss=\"binary_crossentropy\",\n",
    "                      metrics = ['accuracy','Precision','Recall'])\n",
    "        \n",
    "        # A way to optimize the learning rate while also trying different optimizers\n",
    "        learning_rate = hp.Choice('lr', [ 0.03, 0.01, 0.003])\n",
    "        K.set_value(model.optimizer.learning_rate, learning_rate)\n",
    "        # retorno\n",
    "        return model\n",
    "\n",
    "\n"
   ]
  },
  {
   "cell_type": "code",
   "execution_count": 90,
   "id": "bda746d2",
   "metadata": {},
   "outputs": [],
   "source": [
    "tuner = keras_tuner.BayesianOptimization(\n",
    "                        hypermodel=MyHyperModel(),\n",
    "                        objective = \"val_accuracy\",\n",
    "                        max_trials =5, #max candidates to test\n",
    "                        overwrite=True,\n",
    "                        directory='search_dir',\n",
    "                        project_name='sentiment_analysis')\n",
    "\n"
   ]
  },
  {
   "cell_type": "code",
   "execution_count": 91,
   "id": "875930c4",
   "metadata": {},
   "outputs": [
    {
     "name": "stdout",
     "output_type": "stream",
     "text": [
      "Trial 5 Complete [00h 00m 50s]\n",
      "val_accuracy: 0.8434159159660339\n",
      "\n",
      "Best val_accuracy So Far: 0.8470602631568909\n",
      "Total elapsed time: 00h 04m 06s\n",
      "INFO:tensorflow:Oracle triggered exit\n"
     ]
    },
    {
     "name": "stderr",
     "output_type": "stream",
     "text": [
      "INFO:tensorflow:Oracle triggered exit\n"
     ]
    }
   ],
   "source": [
    "tuner.search(x=train_dataset, \n",
    "             epochs=5,\n",
    "             validation_data=validation_dataset)"
   ]
  },
  {
   "cell_type": "code",
   "execution_count": 92,
   "id": "c777a235",
   "metadata": {},
   "outputs": [
    {
     "name": "stdout",
     "output_type": "stream",
     "text": [
      "Results summary\n",
      "Results in search_dir/sentiment_analysis\n",
      "Showing 1 best trials\n",
      "Objective(name=\"val_accuracy\", direction=\"max\")\n",
      "\n",
      "Trial 3 summary\n",
      "Hyperparameters:\n",
      "optim: adamax\n",
      "lr: 0.003\n",
      "Score: 0.8470602631568909\n"
     ]
    }
   ],
   "source": [
    "tuner.results_summary(1)"
   ]
  },
  {
   "cell_type": "code",
   "execution_count": 93,
   "id": "66da232f",
   "metadata": {},
   "outputs": [
    {
     "name": "stdout",
     "output_type": "stream",
     "text": [
      "Model: \"model_1_dense\"\n",
      "_________________________________________________________________\n",
      " Layer (type)                Output Shape              Param #   \n",
      "=================================================================\n",
      " input_2 (InputLayer)        [(None, 1)]               0         \n",
      "                                                                 \n",
      " text_vectorization (TextVec  (None, None)             0         \n",
      " torization)                                                     \n",
      "                                                                 \n",
      " embedding (Embedding)       (None, None, 128)         1280000   \n",
      "                                                                 \n",
      " global_average_pooling1d_1   (None, 128)              0         \n",
      " (GlobalAveragePooling1D)                                        \n",
      "                                                                 \n",
      " dense_1 (Dense)             (None, 1)                 129       \n",
      "                                                                 \n",
      "=================================================================\n",
      "Total params: 1,280,129\n",
      "Trainable params: 1,280,129\n",
      "Non-trainable params: 0\n",
      "_________________________________________________________________\n"
     ]
    }
   ],
   "source": [
    "# mejor modelo\n",
    "best_hps = tuner.get_best_hyperparameters(num_trials=1)[0]\n",
    "final_model = tuner.hypermodel.build(best_hps)\n",
    "\n",
    "final_model.summary()\n"
   ]
  },
  {
   "cell_type": "code",
   "execution_count": 94,
   "id": "59d0b099",
   "metadata": {},
   "outputs": [],
   "source": [
    "callbacks = [\n",
    "    tf.keras.callbacks.EarlyStopping(monitor='val_loss', patience=15),\n",
    "]\n",
    "\n",
    "final_history = final_model.fit(\n",
    "                  train_dataset, \n",
    "                  validation_data=validation_dataset,\n",
    "                  epochs=80, \n",
    "                  verbose=0,\n",
    "                  batch_size=BATCH_SIZE,                  \n",
    "                  callbacks=callbacks)\n"
   ]
  },
  {
   "cell_type": "code",
   "execution_count": 95,
   "id": "8014201d",
   "metadata": {},
   "outputs": [
    {
     "name": "stdout",
     "output_type": "stream",
     "text": [
      "60/60 [==============================] - 0s 2ms/step - loss: 0.7605 - accuracy: 0.8170 - precision: 0.8152 - recall: 0.8781\n"
     ]
    }
   ],
   "source": [
    "final_scores = final_model.evaluate(test_dataset)\n"
   ]
  },
  {
   "cell_type": "code",
   "execution_count": 120,
   "id": "3ab9139e",
   "metadata": {},
   "outputs": [
    {
     "data": {
      "text/plain": [
       "'La exactitud fue 82.0%, la precisión del 82.0% y el recall de 88.0%'"
      ]
     },
     "execution_count": 120,
     "metadata": {},
     "output_type": "execute_result"
    }
   ],
   "source": [
    "f\"La exactitud fue {round(score1[1],2)*100}%, la precisión del {round(score1[2],2)*100}% y el recall de {round(score1[3],2)*100}%\"\n"
   ]
  },
  {
   "cell_type": "markdown",
   "id": "ec112399",
   "metadata": {},
   "source": [
    "<a name=\"8\"> </a>\n",
    "## 8. Predicciones con el modelo final"
   ]
  },
  {
   "cell_type": "markdown",
   "id": "e2c32eaf",
   "metadata": {},
   "source": [
    "#### Armemos la matriz de confusión usando el conjunto de validación."
   ]
  },
  {
   "cell_type": "code",
   "execution_count": 97,
   "id": "6e9fe70f",
   "metadata": {},
   "outputs": [],
   "source": [
    "# al usar validation_dataset no hace falta aplicar las\n",
    "# funciones de pre-procesamiento pues ya las apliqué antes\n",
    "\n",
    "y_pred = []\n",
    "y_true = []\n",
    "\n",
    "\n",
    "for text,label in validation_dataset:\n",
    " \n",
    "    # predictions\n",
    "    predictions = final_model.predict(text,verbose=0)\n",
    "    \n",
    "    # paso a binario\n",
    "    binary_preds = tf.squeeze(tf.round(predictions))\n",
    "        \n",
    "    # Añade a las listas\n",
    "    y_true.extend(label.numpy())\n",
    "    y_pred.extend(binary_preds.numpy())\n",
    "\n"
   ]
  },
  {
   "cell_type": "code",
   "execution_count": 98,
   "id": "78f063e9",
   "metadata": {},
   "outputs": [
    {
     "data": {
      "text/plain": [
       "<tf.Tensor: shape=(8232,), dtype=int32, numpy=array([1, 1, 1, ..., 1, 0, 1], dtype=int32)>"
      ]
     },
     "execution_count": 98,
     "metadata": {},
     "output_type": "execute_result"
    }
   ],
   "source": [
    "# convierto a tensores\n",
    "\n",
    "y_true = tf.constant(y_true)\n",
    "y_true"
   ]
  },
  {
   "cell_type": "code",
   "execution_count": 99,
   "id": "678f7cd3",
   "metadata": {},
   "outputs": [
    {
     "data": {
      "text/plain": [
       "<tf.Tensor: shape=(8232,), dtype=float32, numpy=array([1., 1., 1., ..., 1., 0., 1.], dtype=float32)>"
      ]
     },
     "execution_count": 99,
     "metadata": {},
     "output_type": "execute_result"
    }
   ],
   "source": [
    "y_pred = tf.constant(y_pred)\n",
    "y_pred"
   ]
  },
  {
   "cell_type": "code",
   "execution_count": 100,
   "id": "f0b85c56",
   "metadata": {},
   "outputs": [
    {
     "data": {
      "image/png": "[encoded data removed]",
      "text/plain": [
       "<Figure size 640x480 with 2 Axes>"
      ]
     },
     "metadata": {},
     "output_type": "display_data"
    }
   ],
   "source": [
    "# Calcula la matriz de confusión\n",
    "conf_matrix = tf.math.confusion_matrix(y_true, y_pred)\n",
    "\n",
    "# Convierte la matriz de confusión a un array NumPy para visualización\n",
    "conf_matrix_np = conf_matrix.numpy()\n",
    "\n",
    "# Visualiza la matriz de confusión (opcional, puedes omitir esta parte si no deseas visualizarla)\n",
    "sns.heatmap(conf_matrix_np, annot=True, fmt='d', cmap='Blues', xticklabels=['0', '1'], yticklabels=['0', '1'])\n",
    "plt.xlabel('Predictions')\n",
    "plt.ylabel('True labels')\n",
    "plt.show()\n"
   ]
  },
  {
   "cell_type": "markdown",
   "id": "6a97cf18",
   "metadata": {},
   "source": [
    "#### Veamos algunas predicciones erróneas"
   ]
  },
  {
   "cell_type": "code",
   "execution_count": 104,
   "id": "d8be11dd",
   "metadata": {},
   "outputs": [],
   "source": [
    "# si no quiero trabajar el dataset por lotes debo hace un unbatch\n",
    "\n",
    "dataset = validation_dataset.unbatch()\n",
    "\n",
    "subset = dataset.take(25)\n",
    "\n",
    "errores = []\n",
    "\n",
    "for text,label in subset:\n",
    "    \n",
    "    # text es (,) y necesito que sea (1,)\n",
    "    text = tf.expand_dims(text, axis=0)\n",
    "    \n",
    "    # predictions\n",
    "    prediction = final_model.predict(text,verbose=0)\n",
    "        \n",
    "    # paso a binario\n",
    "    binary_pred = tf.squeeze(tf.round(prediction))\n",
    "    #\n",
    "    \n",
    "    \n",
    "    true = label.numpy()\n",
    "    pred = binary_pred.numpy()\n",
    "    texto = text.numpy()\n",
    "    \n",
    "    bytes_value = np.ndarray.tobytes(texto)\n",
    "        \n",
    "    if true != pred:\n",
    "        texto = text.numpy()\n",
    "        errores.append({'text':texto,'true label':true,'pred':pred,'pred_prob':prediction[0][0]})\n",
    "        \n",
    "    "
   ]
  },
  {
   "cell_type": "code",
   "execution_count": 105,
   "id": "a5cea396",
   "metadata": {},
   "outputs": [
    {
     "data": {
      "text/html": [
       "<div>\n",
       "<style scoped>\n",
       "    .dataframe tbody tr th:only-of-type {\n",
       "        vertical-align: middle;\n",
       "    }\n",
       "\n",
       "    .dataframe tbody tr th {\n",
       "        vertical-align: top;\n",
       "    }\n",
       "\n",
       "    .dataframe thead th {\n",
       "        text-align: right;\n",
       "    }\n",
       "</style>\n",
       "<table border=\"1\" class=\"dataframe\">\n",
       "  <thead>\n",
       "    <tr style=\"text-align: right;\">\n",
       "      <th></th>\n",
       "      <th>text</th>\n",
       "      <th>true label</th>\n",
       "      <th>pred</th>\n",
       "      <th>pred_prob</th>\n",
       "    </tr>\n",
       "  </thead>\n",
       "  <tbody>\n",
       "    <tr>\n",
       "      <th>0</th>\n",
       "      <td>[b' coronavirus chaos , i\\xc3\\xa2\\xc2\\x92m grateful faith jesus grocery store worker get paid little working tirelessly putting health risk ( used one many moon ago ) . hbu  mvrydaghswhio  rhunttv http : //t.co/palf4hzte6']</td>\n",
       "      <td>0</td>\n",
       "      <td>1.0</td>\n",
       "      <td>5.884324e-01</td>\n",
       "    </tr>\n",
       "    <tr>\n",
       "      <th>1</th>\n",
       "      <td>[b'grocery store worker insisted helping senior , disabled covid-19 death http : //t.co/9gg0kpzdkb  societymarylandcoronavirusfeelgood via  6abc http : //t.co/penotipjud']</td>\n",
       "      <td>0</td>\n",
       "      <td>1.0</td>\n",
       "      <td>9.988986e-01</td>\n",
       "    </tr>\n",
       "    <tr>\n",
       "      <th>2</th>\n",
       "      <td>[b'verify : hand sanitizer change skin ph level , making vulnerable  coronavirus ? http : //t.co/vwwzij9y9x']</td>\n",
       "      <td>1</td>\n",
       "      <td>0.0</td>\n",
       "      <td>1.190023e-01</td>\n",
       "    </tr>\n",
       "    <tr>\n",
       "      <th>3</th>\n",
       "      <td>[b' 10downingstreet lot taxi driver sitting idle . lot elderly self-isolating folk need food delivery supermarket can\\xc3\\xa2\\xc2\\x92t cope demand . solution ? ?  coronavirus  ukgoverment']</td>\n",
       "      <td>1</td>\n",
       "      <td>0.0</td>\n",
       "      <td>2.595863e-10</td>\n",
       "    </tr>\n",
       "  </tbody>\n",
       "</table>\n",
       "</div>"
      ],
      "text/plain": [
       "                                                                                                                                                                                                                              text  \\\n",
       "0  [b' coronavirus chaos , i\\xc3\\xa2\\xc2\\x92m grateful faith jesus grocery store worker get paid little working tirelessly putting health risk ( used one many moon ago ) . hbu  mvrydaghswhio  rhunttv http : //t.co/palf4hzte6']   \n",
       "1                                                      [b'grocery store worker insisted helping senior , disabled covid-19 death http : //t.co/9gg0kpzdkb  societymarylandcoronavirusfeelgood via  6abc http : //t.co/penotipjud']   \n",
       "2                                                                                                                    [b'verify : hand sanitizer change skin ph level , making vulnerable  coronavirus ? http : //t.co/vwwzij9y9x']   \n",
       "3                                    [b' 10downingstreet lot taxi driver sitting idle . lot elderly self-isolating folk need food delivery supermarket can\\xc3\\xa2\\xc2\\x92t cope demand . solution ? ?  coronavirus  ukgoverment']   \n",
       "\n",
       "   true label  pred     pred_prob  \n",
       "0           0   1.0  5.884324e-01  \n",
       "1           0   1.0  9.988986e-01  \n",
       "2           1   0.0  1.190023e-01  \n",
       "3           1   0.0  2.595863e-10  "
      ]
     },
     "execution_count": 105,
     "metadata": {},
     "output_type": "execute_result"
    }
   ],
   "source": [
    "errors_df = pd.DataFrame(errores)\n",
    "\n",
    "errors_df\n"
   ]
  },
  {
   "cell_type": "markdown",
   "id": "d6dde856",
   "metadata": {},
   "source": [
    "#### Predicciones con datos nuevos"
   ]
  },
  {
   "cell_type": "code",
   "execution_count": 114,
   "id": "1d0e6c62",
   "metadata": {},
   "outputs": [
    {
     "name": "stdout",
     "output_type": "stream",
     "text": [
      "hot new drug help covid-19, [[1.]], 1\n",
      "\n",
      "covid is terrible, [[0.]], 0\n",
      "\n",
      "some text, [[0.99999994]], 1\n",
      "\n",
      "i'm a little sad, [[1.3640256e-37]], 0\n",
      "\n"
     ]
    }
   ],
   "source": [
    "\"\"\"\n",
    "En la inferencia, la entrada debe pasar previamente por el pre-procesamiento (en este ejemplo\n",
    "por preprocess_text y pre-process_text2); no hace falta que pase por las caspas de text vectorization\n",
    "y embedding pues son parte del modelo\n",
    "\"\"\"\n",
    "\n",
    "\n",
    "\n",
    "def predict(input_text):\n",
    "    \"\"\"\n",
    "    Recibe un texto de entrada y devuelve la pred.\n",
    "    \"\"\"\n",
    "    # pre-procesamiento\n",
    "    input_text = preprocess_text(input_text)\n",
    "    input_text = preprocess_text2(input_text)\n",
    "\n",
    "    # predicción\n",
    "    pred = final_model.predict(np.array([input_text]),verbose=0)\n",
    "\n",
    "    # Convertir la salida a una predicción binaria (0 o 1)\n",
    "    binary_pred = 1 if pred[0, 0] > 0.5 else 0\n",
    "    \n",
    "    # retorno\n",
    "    return pred, binary_pred\n",
    "\n",
    "\n",
    "\n",
    "texts = [\"hot new drug help covid-19\",\"covid is terrible\",\"some text\", \"i'm a little sad\"]\n",
    "\n",
    "\n",
    "for t in texts:\n",
    "    [pred,binary_pred] = predict(t)\n",
    "    print(f\"{t}, {pred}, {binary_pred}\\n\")\n",
    "\n"
   ]
  },
  {
   "cell_type": "markdown",
   "id": "e23ca38e",
   "metadata": {},
   "source": [
    "<a name=\"9\"> </a>\n",
    "## 9. Guardando el modelo"
   ]
  },
  {
   "cell_type": "code",
   "execution_count": 115,
   "id": "9564b153",
   "metadata": {},
   "outputs": [
    {
     "name": "stderr",
     "output_type": "stream",
     "text": [
      "WARNING:absl:Found untraced functions such as _update_step_xla while saving (showing 1 of 1). These functions will not be directly callable after loading.\n"
     ]
    },
    {
     "name": "stdout",
     "output_type": "stream",
     "text": [
      "INFO:tensorflow:Assets written to: final_model/assets\n"
     ]
    },
    {
     "name": "stderr",
     "output_type": "stream",
     "text": [
      "INFO:tensorflow:Assets written to: final_model/assets\n"
     ]
    }
   ],
   "source": [
    "final_model.save('final_model',save_format='tf') # las capas de vect. no pueden guardasrse con h5 aún"
   ]
  },
  {
   "cell_type": "markdown",
   "id": "c2932dd1",
   "metadata": {},
   "source": [
    "<a name=\"10\"> </a>\n",
    "## 10. Conclusiones\n",
    "\n",
    "Se compararon diferentes modelos, se escogió el mejor siguiendo un determinado criterio y se ajustó el mismo.\n",
    "Se obtuvo un sistema que puede predecir si un sentimiento respecto al COVID es positivo o negativo con una exactitud \n",
    "del 82% y un F1-Score del 85%.\n",
    "\n"
   ]
  }
 ],
 "metadata": {
  "kernelspec": {
   "display_name": "Python 3 (ipykernel)",
   "language": "python",
   "name": "python3"
  },
  "language_info": {
   "codemirror_mode": {
    "name": "ipython",
    "version": 3
   },
   "file_extension": ".py",
   "mimetype": "text/x-python",
   "name": "python",
   "nbconvert_exporter": "python",
   "pygments_lexer": "ipython3",
   "version": "3.10.12"
  }
 },
 "nbformat": 4,
 "nbformat_minor": 5
}
