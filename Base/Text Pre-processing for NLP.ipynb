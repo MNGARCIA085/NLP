{
 "cells": [
  {
   "cell_type": "markdown",
   "id": "399647cd",
   "metadata": {},
   "source": [
    "# <font color='#154360'> <b> <center> Text Pre-processing for NLP</center> </b> </font>"
   ]
  },
  {
   "cell_type": "markdown",
   "id": "e3891d10",
   "metadata": {},
   "source": [
    "<b> Steps </b>\n",
    "\n",
    "1. Text Lowercasing\n",
    "2. Remove anything not important for the task (example: hyperlinks in twiter data)\n",
    "2. Tokenization\n",
    "3. Noise Removal\n",
    "    Remove unnecessary elements from the text that do not contribute to the meaning, such as:\n",
    "        - Special characters (e.g., '@', '$')\n",
    "        - HTML tags\n",
    "        - Non-alphabetic characters (if not relevant to the task)\n",
    "4. Remove stop words and punctuation\n",
    "5. Normalization\n",
    "    Normalize text to ensure consistency in representation, which may include:\n",
    "        - Handling contractions (e.g., \"can't\" to \"cannot\")\n",
    "        - Correcting spelling mistakes\n",
    "        - Lemmatization or stemming (reducing words to their base or root form).\n"
   ]
  },
  {
   "cell_type": "code",
   "execution_count": 23,
   "id": "6fbea103",
   "metadata": {},
   "outputs": [],
   "source": [
    "import nltk\n",
    "from nltk.tokenize import word_tokenize\n",
    "from nltk.corpus import stopwords\n",
    "from nltk.stem import PorterStemmer\n",
    "from tensorflow.keras.preprocessing.text import Tokenizer\n",
    "from tensorflow.keras.preprocessing.sequence import pad_sequences\n",
    "import re"
   ]
  },
  {
   "cell_type": "code",
   "execution_count": 24,
   "id": "051f9a3c",
   "metadata": {},
   "outputs": [
    {
     "name": "stdout",
     "output_type": "stream",
     "text": [
      "Processed Text: ['hello', 'exampl', 'text', 'preprocess', 'hope', 'enjoy', '😊']\n"
     ]
    }
   ],
   "source": [
    "# Example text\n",
    "text = \"Hello @marcos, this is an example of text preprocessing! Hope you enjoy it 😊\"\n",
    "\n",
    "# Step 1: Lowercasing\n",
    "text = text.lower()\n",
    "\n",
    "# Step 2: Remove hyperlinks\n",
    "text = re.sub(r'https?://\\S+', '', text)\n",
    "\n",
    "# Step 3: Tokenization (including emoticons)\n",
    "tokens = nltk.casual_tokenize(text)\n",
    "\n",
    "# Step 4: Noise removal (including emoticons)\n",
    "clean_tokens = [token for token in tokens if token.isalpha() \n",
    "                    or token.encode('ascii', 'ignore').decode('ascii') == '']\n",
    "\n",
    "# Step 5: Stopword removal\n",
    "stop_words = set(stopwords.words('english'))\n",
    "clean_tokens = [token for token in clean_tokens if token not in stop_words]\n",
    "\n",
    "# Step 6: Normalization (using stemming in this example)\n",
    "stemmer = PorterStemmer()\n",
    "clean_tokens = [stemmer.stem(token) for token in clean_tokens]\n",
    "\n",
    "# Example of final processed data\n",
    "print(\"Processed Text:\", clean_tokens)\n",
    "\n"
   ]
  },
  {
   "cell_type": "markdown",
   "id": "7117e809",
   "metadata": {},
   "source": [
    "Let's write a fucntion that combines all this tasks:"
   ]
  },
  {
   "cell_type": "code",
   "execution_count": 25,
   "id": "d3061afd",
   "metadata": {},
   "outputs": [],
   "source": [
    "def preprocess_text(text):\n",
    "    # Step 1: Lowercasing\n",
    "    text = text.lower()\n",
    "    \n",
    "    # Step 2: Remove hyperlinks\n",
    "    text = re.sub(r'https?://\\S+', '', text)\n",
    "    \n",
    "    # Step 3: Tokenization\n",
    "    tokens = word_tokenize(text)\n",
    "    \n",
    "    # Step 4: Noise removal (including emoticons)\n",
    "    clean_tokens = [token for token in tokens if token.isalpha() \n",
    "                        or token.encode('ascii', 'ignore').decode('ascii') == '']\n",
    "    \n",
    "\n",
    "    # Step 5: Stopword removal\n",
    "    stop_words = set(stopwords.words('english'))\n",
    "    clean_tokens = [token for token in clean_tokens if token not in stop_words]\n",
    "\n",
    "    # Step 6: Normalization (using stemming in this example)\n",
    "    stemmer = PorterStemmer()\n",
    "    clean_tokens = [stemmer.stem(token) for token in clean_tokens]\n",
    "    \n",
    "    return clean_tokens"
   ]
  },
  {
   "cell_type": "code",
   "execution_count": 26,
   "id": "5f68619f",
   "metadata": {},
   "outputs": [
    {
     "name": "stdout",
     "output_type": "stream",
     "text": [
      "Sentence 1: ['hello', 'sampl', 'sentenc']\n",
      "Sentence 2: ['love', 'code', 'python', 'nltk']\n",
      "Sentence 3: ['text', 'preprocess', 'crucial', 'nlp', 'task']\n",
      "Sentence 4: ['emoticon', 'like', '😊', 'handl', 'properli']\n",
      "Sentence 5: ['stem', 'reduc', 'word', 'root', 'form']\n",
      "Sentence 6: ['link']\n"
     ]
    }
   ],
   "source": [
    "# Example sentences\n",
    "sentences = [\n",
    "    \"Hello, this is a sample sentence!\",\n",
    "    \"I love coding with Python and NLTK.\",\n",
    "    \"Text preprocessing is crucial for NLP tasks.\",\n",
    "    \"Emoticons like 😊 should be handled properly.\",\n",
    "    \"Stemming reduces words to their root form.\",\n",
    "    \"With a link: https://www.nico.com.uy \"\n",
    "]\n",
    "\n",
    "# Apply preprocess_text function to each sentence using list comprehension\n",
    "processed_sentences = [preprocess_text(sentence) for sentence in sentences]\n",
    "\n",
    "# Print processed sentences\n",
    "for idx, tokens in enumerate(processed_sentences):\n",
    "    print(f\"Sentence {idx + 1}: {tokens}\")"
   ]
  }
 ],
 "metadata": {
  "kernelspec": {
   "display_name": "Python 3 (ipykernel)",
   "language": "python",
   "name": "python3"
  },
  "language_info": {
   "codemirror_mode": {
    "name": "ipython",
    "version": 3
   },
   "file_extension": ".py",
   "mimetype": "text/x-python",
   "name": "python",
   "nbconvert_exporter": "python",
   "pygments_lexer": "ipython3",
   "version": "3.10.12"
  }
 },
 "nbformat": 4,
 "nbformat_minor": 5
}
