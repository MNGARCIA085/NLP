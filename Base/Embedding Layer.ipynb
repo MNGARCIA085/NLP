{
 "cells": [
  {
   "cell_type": "markdown",
   "id": "7f666ee8",
   "metadata": {},
   "source": [
    "# <font color='#154360'> <b> <center> Embedding Layer </center> </b> </font>"
   ]
  },
  {
   "cell_type": "markdown",
   "id": "adbb3be9",
   "metadata": {},
   "source": [
    "<img src=\"images/embedding_layer.png\"/>\n",
    "\n",
    "We will focus in the embedding layer."
   ]
  },
  {
   "cell_type": "markdown",
   "id": "b6256dcf",
   "metadata": {},
   "source": [
    "The embedding layer turns positive integers (indexes) into dense vectors of fixed size.\n",
    "\n",
    "e.g. [[4], [20]] -> [[0.25, 0.1], [0.6, -0.2]]\n",
    "\n",
    "<br>\n",
    "\n",
    "<b>tf_keras.layers.Embedding</b>(\n",
    "    \n",
    "    input_dim,\n",
    "    \n",
    "    output_dim,\n",
    "    \n",
    "    embeddings_initializer=\"uniform\",\n",
    "    \n",
    "    embeddings_regularizer=None,\n",
    "    \n",
    "    activity_regularizer=None,\n",
    "    \n",
    "    embeddings_constraint=None,\n",
    "    \n",
    "    mask_zero=False,\n",
    "    \n",
    "    input_length=None,\n",
    "    \n",
    "    sparse=False,\n",
    "    \n",
    "    **kwargs\n",
    ")"
   ]
  },
  {
   "cell_type": "code",
   "execution_count": 4,
   "id": "83597670",
   "metadata": {},
   "outputs": [],
   "source": [
    "import keras\n",
    "import numpy as np"
   ]
  },
  {
   "cell_type": "code",
   "execution_count": 19,
   "id": "6d766921",
   "metadata": {},
   "outputs": [
    {
     "name": "stdout",
     "output_type": "stream",
     "text": [
      "1/1 [==============================] - 0s 29ms/step\n",
      "(32, 10, 64)\n"
     ]
    }
   ],
   "source": [
    "model = keras.Sequential()\n",
    "model.add(keras.layers.Embedding(1000, 64, input_length=10))\n",
    "\n",
    "# The model will take as input an integer matrix of size (batch,\n",
    "# input_length), and the largest integer (i.e. word index) in the input\n",
    "# should be no larger than 999 (vocabulary size).\n",
    "# Now model.output_shape is (None, 10, 64), where `None` is the batch\n",
    "# dimension.\n",
    "\n",
    "input_array = np.random.randint(1000, size=(32, 10))\n",
    "\n",
    "model.compile('rmsprop', 'mse')\n",
    "\n",
    "output_array = model.predict(input_array)\n",
    "\n",
    "print(output_array.shape)"
   ]
  },
  {
   "cell_type": "code",
   "execution_count": 20,
   "id": "ead200e4",
   "metadata": {},
   "outputs": [
    {
     "data": {
      "text/plain": [
       "(10, 64)"
      ]
     },
     "execution_count": 20,
     "metadata": {},
     "output_type": "execute_result"
    }
   ],
   "source": [
    "output_array[0].shape"
   ]
  },
  {
   "cell_type": "markdown",
   "id": "9532e731",
   "metadata": {},
   "source": [
    "### References\n",
    "\n",
    "https://keras.io/2.15/api/layers/core_layers/embedding/"
   ]
  }
 ],
 "metadata": {
  "kernelspec": {
   "display_name": "Python 3 (ipykernel)",
   "language": "python",
   "name": "python3"
  },
  "language_info": {
   "codemirror_mode": {
    "name": "ipython",
    "version": 3
   },
   "file_extension": ".py",
   "mimetype": "text/x-python",
   "name": "python",
   "nbconvert_exporter": "python",
   "pygments_lexer": "ipython3",
   "version": "3.10.12"
  }
 },
 "nbformat": 4,
 "nbformat_minor": 5
}
