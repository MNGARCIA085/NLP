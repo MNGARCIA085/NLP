{
 "cells": [
  {
   "cell_type": "markdown",
   "id": "6f6a72c5",
   "metadata": {},
   "source": [
    "# <center><font color='blue'>HATE SPEECH DETECTION</center></font>"
   ]
  },
  {
   "cell_type": "markdown",
   "id": "cd61b5f1",
   "metadata": {},
   "source": [
    "## <font color='#2471A3'> Table of contents </font>\n",
    "\n",
    "- [1 - Objectives](#1)\n",
    "- [2 - Setup](#2)\n",
    "- [3 - Data Loading and pre-processing](#3)\n",
    "- [4 - Model](#4)\n",
    "- [5 - Predictions](#5)\n",
    "- [6 - References](#6)\n"
   ]
  },
  {
   "cell_type": "markdown",
   "id": "c8d35551",
   "metadata": {},
   "source": [
    "<a name=\"1\"></a>\n",
    "## <b> <font color='blue'> 1. Objectives </font> </b>\n",
    "\n",
    "The goal is to test a state-of-the-art model on an NLP problem. In this notebook, we will use BERT."
   ]
  },
  {
   "cell_type": "markdown",
   "id": "f8fb782e",
   "metadata": {},
   "source": [
    "<a name=\"2\"></a>\n",
    "## <b> <font color='blue'> 2. Setup </font> </b>"
   ]
  },
  {
   "cell_type": "code",
   "execution_count": 66,
   "id": "89d18089",
   "metadata": {},
   "outputs": [],
   "source": [
    "import pandas as pd\n",
    "from sklearn.model_selection import train_test_split\n",
    "import re\n",
    "import tensorflow as tf"
   ]
  },
  {
   "cell_type": "markdown",
   "id": "d419d1e9",
   "metadata": {},
   "source": [
    "<a name=\"3\"></a>\n",
    "## <b> <font color='blue'> 3. Data loading and pre-processing </font> </b>\n",
    "\n",
    "We will study a speech detection problem. The data was obtained from here [here].(https://www.kaggle.com/datasets/mrmorj/hate-speech-and-offensive-language-dataset)\n"
   ]
  },
  {
   "cell_type": "code",
   "execution_count": 2,
   "id": "c0c3f66c",
   "metadata": {},
   "outputs": [
    {
     "name": "stdout",
     "output_type": "stream",
     "text": [
      "labeled_data.csv\r\n"
     ]
    }
   ],
   "source": [
    "!ls data"
   ]
  },
  {
   "cell_type": "code",
   "execution_count": 3,
   "id": "2e9928b6",
   "metadata": {},
   "outputs": [],
   "source": [
    "df = pd.read_csv('data/labeled_data.csv')"
   ]
  },
  {
   "cell_type": "code",
   "execution_count": 5,
   "id": "f706f92c",
   "metadata": {},
   "outputs": [
    {
     "data": {
      "text/html": [
       "<div>\n",
       "<style scoped>\n",
       "    .dataframe tbody tr th:only-of-type {\n",
       "        vertical-align: middle;\n",
       "    }\n",
       "\n",
       "    .dataframe tbody tr th {\n",
       "        vertical-align: top;\n",
       "    }\n",
       "\n",
       "    .dataframe thead th {\n",
       "        text-align: right;\n",
       "    }\n",
       "</style>\n",
       "<table border=\"1\" class=\"dataframe\">\n",
       "  <thead>\n",
       "    <tr style=\"text-align: right;\">\n",
       "      <th></th>\n",
       "      <th>Unnamed: 0</th>\n",
       "      <th>count</th>\n",
       "      <th>hate_speech</th>\n",
       "      <th>offensive_language</th>\n",
       "      <th>neither</th>\n",
       "      <th>class</th>\n",
       "      <th>tweet</th>\n",
       "    </tr>\n",
       "  </thead>\n",
       "  <tbody>\n",
       "    <tr>\n",
       "      <th>0</th>\n",
       "      <td>0</td>\n",
       "      <td>3</td>\n",
       "      <td>0</td>\n",
       "      <td>0</td>\n",
       "      <td>3</td>\n",
       "      <td>2</td>\n",
       "      <td>!!! RT @mayasolovely: As a woman you shouldn't...</td>\n",
       "    </tr>\n",
       "    <tr>\n",
       "      <th>1</th>\n",
       "      <td>1</td>\n",
       "      <td>3</td>\n",
       "      <td>0</td>\n",
       "      <td>3</td>\n",
       "      <td>0</td>\n",
       "      <td>1</td>\n",
       "      <td>!!!!! RT @mleew17: boy dats cold...tyga dwn ba...</td>\n",
       "    </tr>\n",
       "    <tr>\n",
       "      <th>2</th>\n",
       "      <td>2</td>\n",
       "      <td>3</td>\n",
       "      <td>0</td>\n",
       "      <td>3</td>\n",
       "      <td>0</td>\n",
       "      <td>1</td>\n",
       "      <td>!!!!!!! RT @UrKindOfBrand Dawg!!!! RT @80sbaby...</td>\n",
       "    </tr>\n",
       "    <tr>\n",
       "      <th>3</th>\n",
       "      <td>3</td>\n",
       "      <td>3</td>\n",
       "      <td>0</td>\n",
       "      <td>2</td>\n",
       "      <td>1</td>\n",
       "      <td>1</td>\n",
       "      <td>!!!!!!!!! RT @C_G_Anderson: @viva_based she lo...</td>\n",
       "    </tr>\n",
       "    <tr>\n",
       "      <th>4</th>\n",
       "      <td>4</td>\n",
       "      <td>6</td>\n",
       "      <td>0</td>\n",
       "      <td>6</td>\n",
       "      <td>0</td>\n",
       "      <td>1</td>\n",
       "      <td>!!!!!!!!!!!!! RT @ShenikaRoberts: The shit you...</td>\n",
       "    </tr>\n",
       "  </tbody>\n",
       "</table>\n",
       "</div>"
      ],
      "text/plain": [
       "   Unnamed: 0  count  hate_speech  offensive_language  neither  class  \\\n",
       "0           0      3            0                   0        3      2   \n",
       "1           1      3            0                   3        0      1   \n",
       "2           2      3            0                   3        0      1   \n",
       "3           3      3            0                   2        1      1   \n",
       "4           4      6            0                   6        0      1   \n",
       "\n",
       "                                               tweet  \n",
       "0  !!! RT @mayasolovely: As a woman you shouldn't...  \n",
       "1  !!!!! RT @mleew17: boy dats cold...tyga dwn ba...  \n",
       "2  !!!!!!! RT @UrKindOfBrand Dawg!!!! RT @80sbaby...  \n",
       "3  !!!!!!!!! RT @C_G_Anderson: @viva_based she lo...  \n",
       "4  !!!!!!!!!!!!! RT @ShenikaRoberts: The shit you...  "
      ]
     },
     "execution_count": 5,
     "metadata": {},
     "output_type": "execute_result"
    }
   ],
   "source": [
    "df.head() # 0, odio, 1 lenguaje ofensivo, 2 ninguno"
   ]
  },
  {
   "cell_type": "markdown",
   "id": "35ef12d4",
   "metadata": {},
   "source": [
    "In this dataset:\n",
    "\n",
    "- 0: represents hate speech\n",
    "- 1: represents offensive language\n",
    "- 2: no offensive speech\n",
    "\n",
    "The columns we care about are:\n",
    "\n",
    "- tweet\n",
    "- class (our label)"
   ]
  },
  {
   "cell_type": "code",
   "execution_count": 4,
   "id": "6d234ba5",
   "metadata": {},
   "outputs": [],
   "source": [
    "# Cargar el dataset\n",
    "texts = df['tweet'].tolist()\n",
    "y = df['class'].tolist() # labels"
   ]
  },
  {
   "cell_type": "markdown",
   "id": "92c2b456",
   "metadata": {},
   "source": [
    "We are going to write a simple pre-processing function:"
   ]
  },
  {
   "cell_type": "code",
   "execution_count": 5,
   "id": "887989f4",
   "metadata": {},
   "outputs": [],
   "source": [
    "def preprocess_text(text):\n",
    "    # Remove hyperlinks\n",
    "    text = re.sub(r'http\\S+|www\\S+|https\\S+', '', text, flags=re.MULTILINE)\n",
    "    \n",
    "    # Remove special characters like @ and #\n",
    "    text = re.sub(r'[@#]', '', text)\n",
    "    \n",
    "    # Remove punctuation\n",
    "    text = re.sub(r'[^\\w\\s]', '', text)\n",
    "    \n",
    "    # Convert to lowercase\n",
    "    text = text.lower()\n",
    "    \n",
    "    return text"
   ]
  },
  {
   "cell_type": "code",
   "execution_count": 6,
   "id": "80d6999b",
   "metadata": {},
   "outputs": [],
   "source": [
    "# we apply the pre-processing function\n",
    "X = [preprocess_text(text) for text in texts]"
   ]
  },
  {
   "cell_type": "code",
   "execution_count": 7,
   "id": "bdc19f7f",
   "metadata": {},
   "outputs": [],
   "source": [
    "# train/test split\n",
    "train_texts, test_texts, train_labels, test_labels = train_test_split(X, y, test_size=0.2)"
   ]
  },
  {
   "cell_type": "markdown",
   "id": "10c9d387",
   "metadata": {},
   "source": [
    "We will prepare the data for our model. Due to computational constraints, we will use DistilBERT.\n",
    "\n",
    "### Tokenization"
   ]
  },
  {
   "cell_type": "code",
   "execution_count": 8,
   "id": "101f7470",
   "metadata": {},
   "outputs": [],
   "source": [
    "from transformers import DistilBertTokenizer\n",
    "\n",
    "tokenizer = DistilBertTokenizer.from_pretrained('distilbert-base-uncased')\n",
    "\n",
    "def tokenize_function(texts):\n",
    "    return tokenizer(texts, padding=True, truncation=True, return_tensors=\"tf\")\n",
    "\n",
    "train_encodings = tokenize_function(train_texts)\n",
    "test_encodings = tokenize_function(test_texts)"
   ]
  },
  {
   "cell_type": "markdown",
   "id": "e2586b42",
   "metadata": {},
   "source": [
    "#### Prepare datasets for TensorFlow"
   ]
  },
  {
   "cell_type": "code",
   "execution_count": 9,
   "id": "c3adcd7d",
   "metadata": {},
   "outputs": [],
   "source": [
    "def create_tf_dataset(encodings, labels):\n",
    "    dataset = tf.data.Dataset.from_tensor_slices((\n",
    "        dict(encodings),\n",
    "        tf.convert_to_tensor(labels)\n",
    "    ))\n",
    "    return dataset\n",
    "\n",
    "train_dataset = create_tf_dataset(train_encodings, train_labels).batch(8).shuffle(1000)\n",
    "test_dataset = create_tf_dataset(test_encodings, test_labels).batch(8)"
   ]
  },
  {
   "cell_type": "markdown",
   "id": "b8930c45",
   "metadata": {},
   "source": [
    "<a name=\"4\"></a>\n",
    "## <b> <font color='blue'> 4. Model </font> </b>"
   ]
  },
  {
   "cell_type": "code",
   "execution_count": 10,
   "id": "ebcb200a",
   "metadata": {},
   "outputs": [
    {
     "name": "stderr",
     "output_type": "stream",
     "text": [
      "2024-08-13 15:33:38.696998: W external/local_tsl/tsl/framework/cpu_allocator_impl.cc:83] Allocation of 93763584 exceeds 10% of free system memory.\n",
      "2024-08-13 15:33:38.894204: W external/local_tsl/tsl/framework/cpu_allocator_impl.cc:83] Allocation of 93763584 exceeds 10% of free system memory.\n",
      "2024-08-13 15:33:38.914768: W external/local_tsl/tsl/framework/cpu_allocator_impl.cc:83] Allocation of 93763584 exceeds 10% of free system memory.\n",
      "2024-08-13 15:33:40.245303: W external/local_tsl/tsl/framework/cpu_allocator_impl.cc:83] Allocation of 93763584 exceeds 10% of free system memory.\n",
      "Some weights of the PyTorch model were not used when initializing the TF 2.0 model TFDistilBertForSequenceClassification: ['vocab_transform.bias', 'vocab_layer_norm.weight', 'vocab_projector.bias', 'vocab_transform.weight', 'vocab_layer_norm.bias']\n",
      "- This IS expected if you are initializing TFDistilBertForSequenceClassification from a PyTorch model trained on another task or with another architecture (e.g. initializing a TFBertForSequenceClassification model from a BertForPreTraining model).\n",
      "- This IS NOT expected if you are initializing TFDistilBertForSequenceClassification from a PyTorch model that you expect to be exactly identical (e.g. initializing a TFBertForSequenceClassification model from a BertForSequenceClassification model).\n",
      "Some weights or buffers of the TF 2.0 model TFDistilBertForSequenceClassification were not initialized from the PyTorch model and are newly initialized: ['pre_classifier.weight', 'pre_classifier.bias', 'classifier.weight', 'classifier.bias']\n",
      "You should probably TRAIN this model on a down-stream task to be able to use it for predictions and inference.\n"
     ]
    }
   ],
   "source": [
    "from transformers import TFBertForSequenceClassification,TFDistilBertForSequenceClassification\n",
    "\n",
    "\n",
    "model = TFDistilBertForSequenceClassification.from_pretrained('distilbert-base-uncased', num_labels=3)"
   ]
  },
  {
   "cell_type": "code",
   "execution_count": 11,
   "id": "fd332b05",
   "metadata": {},
   "outputs": [],
   "source": [
    "# configure training\n",
    "optimizer = 'Adam'\n",
    "loss = tf.keras.losses.SparseCategoricalCrossentropy(from_logits=True)\n",
    "metrics = [tf.keras.metrics.SparseCategoricalAccuracy('accuracy')]\n",
    "\n",
    "model.compile(optimizer=optimizer, loss=loss, metrics=metrics)"
   ]
  },
  {
   "cell_type": "markdown",
   "id": "d3497724",
   "metadata": {},
   "source": [
    "Due to computacional constraints we are going to train the model for only 2 epochs."
   ]
  },
  {
   "cell_type": "code",
   "execution_count": 12,
   "id": "fcc7bfc8",
   "metadata": {},
   "outputs": [
    {
     "name": "stdout",
     "output_type": "stream",
     "text": [
      "Epoch 1/2\n",
      "WARNING:tensorflow:AutoGraph could not transform <function infer_framework at 0x7e8cc2dd5870> and will run it as-is.\n",
      "Cause: for/else statement not yet supported\n",
      "To silence this warning, decorate the function with @tf.autograph.experimental.do_not_convert\n",
      "WARNING: AutoGraph could not transform <function infer_framework at 0x7e8cc2dd5870> and will run it as-is.\n",
      "Cause: for/else statement not yet supported\n",
      "To silence this warning, decorate the function with @tf.autograph.experimental.do_not_convert\n"
     ]
    },
    {
     "name": "stderr",
     "output_type": "stream",
     "text": [
      "2024-08-13 15:39:27.705156: W external/local_tsl/tsl/framework/cpu_allocator_impl.cc:83] Allocation of 93763584 exceeds 10% of free system memory.\n"
     ]
    },
    {
     "name": "stdout",
     "output_type": "stream",
     "text": [
      "2479/2479 [==============================] - 6704s 3s/step - loss: 0.6786 - accuracy: 0.7749 - val_loss: 0.6701 - val_accuracy: 0.7686\n",
      "Epoch 2/2\n",
      "2479/2479 [==============================] - 6611s 3s/step - loss: 0.6710 - accuracy: 0.7757 - val_loss: 0.6715 - val_accuracy: 0.7686\n"
     ]
    }
   ],
   "source": [
    "history = model.fit(train_dataset, \n",
    "                    epochs=2, \n",
    "                    validation_data=test_dataset)"
   ]
  },
  {
   "cell_type": "code",
   "execution_count": 15,
   "id": "2c6069ff",
   "metadata": {},
   "outputs": [
    {
     "data": {
      "text/plain": [
       "{'loss': [0.6786103248596191, 0.6709921360015869],\n",
       " 'accuracy': [0.7749419808387756, 0.7757490277290344],\n",
       " 'val_loss': [0.6701390743255615, 0.6715118288993835],\n",
       " 'val_accuracy': [0.7686100602149963, 0.7686100602149963]}"
      ]
     },
     "execution_count": 15,
     "metadata": {},
     "output_type": "execute_result"
    }
   ],
   "source": [
    "history.history"
   ]
  },
  {
   "cell_type": "markdown",
   "id": "af2c53d0",
   "metadata": {},
   "source": [
    "With just 2 epochs, we achieved an accuracy of 76%. Wow!"
   ]
  },
  {
   "cell_type": "markdown",
   "id": "b51fc692",
   "metadata": {},
   "source": [
    "<a name=\"5\"></a>\n",
    "## <b> <font color='blue'> 5. Predictions </font> </b>"
   ]
  },
  {
   "cell_type": "code",
   "execution_count": 63,
   "id": "95f28e3e",
   "metadata": {},
   "outputs": [],
   "source": [
    "# predict with my own data\n",
    "\n",
    "some_texts = ['I hate people']\n",
    "prep_texts = [preprocess_text(text) for text in some_texts]\n",
    "encodings = tokenize_function(prep_texts)"
   ]
  },
  {
   "cell_type": "code",
   "execution_count": 65,
   "id": "f1f3fd32",
   "metadata": {},
   "outputs": [
    {
     "name": "stdout",
     "output_type": "stream",
     "text": [
      "1/1 [==============================] - 0s 35ms/step\n",
      "Logits: [[-1.4713306   1.2834646  -0.33739126]]\n",
      "Probabilities: tf.Tensor([[0.0504396  0.79280055 0.15675998]], shape=(1, 3), dtype=float32)\n",
      "Predcited class: tf.Tensor([1], shape=(1,), dtype=int64)\n"
     ]
    }
   ],
   "source": [
    "inputs = {\n",
    "    'input_ids': encodings['input_ids'],\n",
    "    'attention_mask': encodings['attention_mask']\n",
    "}\n",
    "\n",
    "\n",
    "# Prediction\n",
    "predictions = model.predict(inputs)\n",
    "\n",
    "# The logits are in predictions.logits\n",
    "logits = predictions.logits\n",
    "\n",
    "# Logits to probs\n",
    "probabilities = tf.nn.softmax(logits, axis=-1)\n",
    "\n",
    "# Probs to classes\n",
    "predicted_class = tf.argmax(probabilities, axis=-1)\n",
    "\n",
    "print(\"Logits:\", logits)\n",
    "print(\"Probabilities:\", probabilities)\n",
    "print(\"Predcited class:\", predicted_class)"
   ]
  },
  {
   "cell_type": "markdown",
   "id": "5b858272",
   "metadata": {},
   "source": [
    "<a name=\"6\"></a>\n",
    "## <b> <font color='blue'> 6. References </font> </b>"
   ]
  },
  {
   "cell_type": "markdown",
   "id": "697b6aa2",
   "metadata": {},
   "source": [
    "[Hugging Face](https://huggingface.co/)"
   ]
  }
 ],
 "metadata": {
  "kernelspec": {
   "display_name": "Python 3 (ipykernel)",
   "language": "python",
   "name": "python3"
  },
  "language_info": {
   "codemirror_mode": {
    "name": "ipython",
    "version": 3
   },
   "file_extension": ".py",
   "mimetype": "text/x-python",
   "name": "python",
   "nbconvert_exporter": "python",
   "pygments_lexer": "ipython3",
   "version": "3.10.12"
  }
 },
 "nbformat": 4,
 "nbformat_minor": 5
}
